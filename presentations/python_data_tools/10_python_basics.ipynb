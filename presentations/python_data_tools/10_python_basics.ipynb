{
 "cells": [
  {
   "cell_type": "markdown",
   "metadata": {
    "collapsed": true
   },
   "source": [
    "<img style=\"margin-right: 0;\" src=\"static/small.jpg\">\n",
    "\n",
    "---\n",
    "\n",
    "# Basic Python Exercises\n",
    "\n",
    "See also: [Official Python3 Tutorial](https://docs.python.org/3.6/tutorial/introduction.html)\n",
    "\n",
    "---"
   ]
  },
  {
   "cell_type": "markdown",
   "metadata": {},
   "source": [
    "### Housekeeping\n",
    "\n",
    "We've completed the \"Overview\" section of the presentation and we're now doing the in-depth examination of the packages presented. Because of the varying levels of skill of the people on this call, I can't really ensure that I'm giving you the information you need. If what I'm doing is not helpful, feel free to explore the web for other Python resources (I'd start with the items at the bottom of each notebook in the \"Other Links\" section).\n",
    "\n",
    "Even if you're not working on the specific section I am, please feel free to ask/send me questions.\n",
    "\n",
    "There's no shame in Googling things. Stack Overflow is your friend.\n",
    "\n",
    "Reminders:\n",
    "* `Shift + Enter` executes\n",
    "* `Escape` puts you in command mode\n",
    "* `Enter` puts you in edit mode\n",
    "* The `H` key in command mode brings up help"
   ]
  },
  {
   "cell_type": "code",
   "execution_count": null,
   "metadata": {
    "collapsed": false
   },
   "outputs": [],
   "source": [
    "# 1. Make your interpreter print the statement \"Hello, world!\".\n",
    "\n"
   ]
  },
  {
   "cell_type": "code",
   "execution_count": null,
   "metadata": {
    "collapsed": false
   },
   "outputs": [],
   "source": [
    "# 2. Assign a string to a variable and then print the variable.\n",
    "\n"
   ]
  },
  {
   "cell_type": "code",
   "execution_count": null,
   "metadata": {
    "collapsed": false
   },
   "outputs": [],
   "source": [
    "# 3. Create a list of numbers and print every number in that list.\n",
    "\n"
   ]
  },
  {
   "cell_type": "code",
   "execution_count": null,
   "metadata": {
    "collapsed": false
   },
   "outputs": [],
   "source": [
    "# 4. Create a list of numbers and print the numbers if the number is greater than 3.\n",
    "# Hint: remember to indent conditionals like 'if condition:'\n",
    "\n"
   ]
  },
  {
   "cell_type": "code",
   "execution_count": null,
   "metadata": {
    "collapsed": false
   },
   "outputs": [],
   "source": [
    "# 5. Create an empty list and add 3 strings to that list.\n",
    "\n"
   ]
  },
  {
   "cell_type": "code",
   "execution_count": null,
   "metadata": {
    "collapsed": false
   },
   "outputs": [],
   "source": [
    "# 6. Create a dictionary that links 5 US States with their 2 letter abbreviation.\n",
    "\n"
   ]
  },
  {
   "cell_type": "code",
   "execution_count": null,
   "metadata": {
    "collapsed": false
   },
   "outputs": [],
   "source": [
    "# 7. Import the \"string\" module. Print every character in string.punctuation individually.\n",
    "\n"
   ]
  },
  {
   "cell_type": "code",
   "execution_count": null,
   "metadata": {
    "collapsed": false
   },
   "outputs": [],
   "source": [
    "# 8. Read all the information in the text_file.txt in the data folder.\n",
    "\n"
   ]
  },
  {
   "cell_type": "code",
   "execution_count": null,
   "metadata": {
    "collapsed": true
   },
   "outputs": [],
   "source": [
    "# 9. Create a string with your name and write it to a file in the data folder.\n",
    "\n"
   ]
  },
  {
   "cell_type": "code",
   "execution_count": null,
   "metadata": {
    "collapsed": false
   },
   "outputs": [],
   "source": [
    "# 10. Create a function that prints \"Hello, world!\".\n",
    "\n"
   ]
  },
  {
   "cell_type": "code",
   "execution_count": null,
   "metadata": {
    "collapsed": false
   },
   "outputs": [],
   "source": [
    "# 11. Import os and use os.walk to read and print the contents of every file in data/dir_tree.\n",
    "\n"
   ]
  },
  {
   "cell_type": "code",
   "execution_count": null,
   "metadata": {
    "collapsed": false
   },
   "outputs": [],
   "source": [
    "# 12. Use a range() object to print the numbers from 1 through 10.\n",
    "\n"
   ]
  },
  {
   "cell_type": "markdown",
   "metadata": {},
   "source": [
    "---\n",
    "\n",
    "## [Answers](10_python_basics_answers.ipynb)\n",
    "\n",
    "## Next Up: [Pandas Basics](11_pandas_basics.ipynb)"
   ]
  }
 ],
 "metadata": {
  "anaconda-cloud": {},
  "kernelspec": {
   "display_name": "Python [Root]",
   "language": "python",
   "name": "Python [Root]"
  },
  "language_info": {
   "codemirror_mode": {
    "name": "ipython",
    "version": 3
   },
   "file_extension": ".py",
   "mimetype": "text/x-python",
   "name": "python",
   "nbconvert_exporter": "python",
   "pygments_lexer": "ipython3",
   "version": "3.5.2"
  }
 },
 "nbformat": 4,
 "nbformat_minor": 0
}
