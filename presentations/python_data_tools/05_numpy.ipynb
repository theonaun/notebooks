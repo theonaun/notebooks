{
 "cells": [
  {
   "cell_type": "markdown",
   "metadata": {
    "collapsed": true
   },
   "source": [
    "<img style=\"margin-right: 0;\" src=\"static/small.jpg\">\n",
    "\n",
    "<hr>\n",
    "\n",
    "<div style=\"display: table; width: 100%\">\n",
    "    <div style=\"display: table-row; width: 100%;\">\n",
    "        <div style=\"display: table-cell; width: 50%; vertical-align: middle;\">\n",
    "                <img style=\"display: inline;\" src=\"static/numpy_logo.jpg\" style=\"overflow: hidden; width: 50%\">\n",
    "            <br>\n",
    "            <br>\n",
    "            <ul style=\"display: inline-block\">\n",
    "                <li>\n",
    "                    <a href=\"http://www.numpy.org/\">Numpy Home</a>\n",
    "                </li>\n",
    "                <li>\n",
    "                    <a href=\"https://docs.scipy.org/doc/numpy/reference/\">Numpy Reference Guide</a>\n",
    "                </li>\n",
    "                <li>\n",
    "                    <a href=\"https://en.wikipedia.org/wiki/NumPy\">Numpy Wikipedia</a>\n",
    "                </li>\n",
    "                <li>\n",
    "                    <a href=\"http://scipy-cookbook.readthedocs.io/items/idx_numpy.html\">Numpy Cookbook</a>\n",
    "                </li>                \n",
    "            </ul>\n",
    "        </div>\n",
    "        <div style=\"display: table-cell; width: 10%\">\n",
    "        </div>\n",
    "        <div style=\"display: table-cell; width: 40%; vertical-align: middle;\">\n",
    "            <blockquote>\n",
    "                <p style=\"font-style: italic;\">In mathematics you don't understand things. You just get used to them.</p>\n",
    "                <br>\n",
    "                <p>-John von Neumann</p>\n",
    "            </blockquote>\n",
    "        </div>\n",
    "    </div>\n",
    "</div>\n",
    "\n",
    "<hr>"
   ]
  },
  {
   "cell_type": "markdown",
   "metadata": {
    "collapsed": true
   },
   "source": [
    "## What is Numpy?\n",
    "\n",
    "Numpy (pronounced \"Num-Pie\") is a C-based extension to the Python language that provides support for large, efficient numerical arrays, [vectorized operations](https://en.wikipedia.org/wiki/Array_programming), and linear algebra support. \n",
    "\n",
    "Because Python is an interpreted language, it is relatively slow in comparison to C++, C#, and Java. In order to speed up calculations with large datasets, Numpy was created. It has since become an integral part of Python data analysis tools like matplotlib, Scipy, and Pandas.\n",
    "\n",
    "---"
   ]
  },
  {
   "cell_type": "markdown",
   "metadata": {},
   "source": [
    "## What Will We Use Numpy For?\n",
    "\n",
    "Odds are you won't be using Numpy for anything at first. You will go about your life blissfully unaware of the fact that Numpy is doing all the grunt work on your behalf. You will on occasion be forced to use Numpy [datatypes](https://docs.scipy.org/doc/numpy/user/basics.types.html) and Numpy [ndarrays](https://docs.scipy.org/doc/numpy/reference/generated/numpy.ndarray.html) for machine learning and analysis, and may be choose to use some of the more convienient Numpy functions below."
   ]
  },
  {
   "cell_type": "markdown",
   "metadata": {},
   "source": [
    "## Numpy Basics"
   ]
  },
  {
   "cell_type": "code",
   "execution_count": null,
   "metadata": {
    "collapsed": false
   },
   "outputs": [],
   "source": [
    "# Import numpy\n",
    "import numpy as np\n",
    "\n",
    "# Create numpy array\n",
    "arr = np.array([0, 1, 2, 3, 4, 5, 6, 7, 8, 9])\n",
    "\n",
    "# print datatype (add end arg because we don't want newline)\n",
    "print('Datatype: ', end='')\n",
    "print(arr.dtype)\n",
    "\n",
    "# print shape 1-dim. 10 rows x 1 dimension\n",
    "print('Initial shape: ', end='')\n",
    "print(arr.shape)\n",
    "\n",
    "# reshape numpy array to two rows x 5 dimensions\n",
    "arr = arr.reshape(2, 5)\n",
    "print('New shape: ', end='')\n",
    "print(arr.shape)\n",
    "\n",
    "arr"
   ]
  },
  {
   "cell_type": "code",
   "execution_count": null,
   "metadata": {
    "collapsed": false
   },
   "outputs": [],
   "source": [
    "# Can turn array to list\n",
    "as_list = arr.tolist()\n",
    "\n",
    "# Run max convenience function\n",
    "print('Max: ', end='')\n",
    "print(arr.max())\n",
    "\n",
    "# Run mean\n",
    "print('Mean: ', end='')\n",
    "print(arr.mean())\n",
    "\n",
    "# Run standard deviation\n",
    "print('Stdev: ', end='')\n",
    "print(arr.std())\n",
    "\n",
    "# Run cumulative sum\n",
    "print('Cumulative Sum: ', end='')\n",
    "print(arr.cumsum())\n",
    "\n",
    "# Transpose\n",
    "arr.T"
   ]
  },
  {
   "cell_type": "markdown",
   "metadata": {},
   "source": [
    "## Useful Functions and Methods"
   ]
  },
  {
   "cell_type": "markdown",
   "metadata": {},
   "source": [
    "### [np.linspace()](https://docs.scipy.org/doc/numpy/reference/generated/numpy.linspace.html)\n",
    "\n",
    "Linspace returns evenly spaced numbers given x number of intervals.\n",
    "\n",
    "    >>> np.linspace(0, 5, 9)\n",
    "    \n",
    "    array([ 0.   ,  0.625,  1.25 ,  1.875,  2.5  ,  3.125,  3.75 ,  4.375,  5.   ])\n",
    "\n",
    "### [np.arange()](https://docs.scipy.org/doc/numpy/reference/generated/numpy.arange.html)\n",
    "\n",
    "Returns evenly spaced values given an interval/step of size x.\n",
    "\n",
    "    >>> np.arange(0, 5, .5)\n",
    "    \n",
    "    array([ 0. ,  0.5,  1. ,  1.5,  2. ,  2.5,  3. ,  3.5,  4. ,  4.5])\n",
    "\n",
    "### [polyfit()](https://docs.scipy.org/doc/numpy/reference/generated/numpy.polyfit.html)\n",
    "\n",
    "Provides a linear or polynomial least squares regression. Returns highest coefficient to lowest, and then provides residuals.\n",
    "\n",
    "    >>> x = np.array([0.0, 1.0, 2.0, 3.0,  4.0,  5.0])\n",
    "    >>> y = np.array([0.0, 0.8, 0.9, 0.1, -0.8, -1.0])\n",
    "    >>> z = np.polyfit(x, y, 3)\n",
    "    >>> z\n",
    "\n",
    "    array([ 0.08703704, -0.81349206,  1.69312169, -0.03968254])\n",
    "\n",
    "\n",
    "### [np.vectorize()](https://docs.scipy.org/doc/numpy/reference/generated/numpy.vectorize.html)\n",
    "\n",
    "Turn Python function into numpy [ufunc](https://docs.scipy.org/doc/numpy/reference/ufuncs.html).\n",
    "\n",
    "    >>>def myfunc(a, b):\n",
    "    ...    \"Return a-b if a>b, otherwise return a+b\"\n",
    "    ...    if a > b:\n",
    "    ...        return a - b\n",
    "    ...    else:\n",
    "    ...        return a + b\n",
    "    ...\n",
    "    >>> vfunc = np.vectorize(myfunc)\n",
    "    >>> vfunc([1, 2, 3, 4], 2)\n",
    "\n",
    "    array([3, 4, 1, 2])\n",
    "\n",
    "### [np.concatenate()](https://docs.scipy.org/doc/numpy/reference/generated/numpy.concatenate.html)\n",
    "\n",
    "Join a sequence of arrays along an existing axis.\n",
    "\n",
    "    >>> a = np.array([[1, 2], [3, 4]])\n",
    "    >>> b = np.array([[5, 6]])\n",
    "    >>> np.concatenate((a, b), axis=0)\n",
    "    \n",
    "    array([[1, 2],\n",
    "           [3, 4],\n",
    "           [5, 6]])\n",
    "\n",
    "### [np.argsort()](https://docs.scipy.org/doc/numpy/reference/generated/numpy.argsort.html)\n",
    "\n",
    "Perform an operation on an array, and have an array with the sort order returned to you. To demonstrate, in this example, you would the first element in the new sort would be 'a' (index 0), the second would be 'c' (index 2), the third would be 'y' (index 3), and the fourth would be 'z' (index 1).\n",
    "\n",
    "    >>>np.argsort(['a', 'z', 'c', 'y'])\n",
    "    \n",
    "    array([0, 2, 3, 1])\n",
    "\n",
    "### [np.random.normal()](https://docs.scipy.org/doc/numpy/reference/generated/numpy.random.normal.html)\n",
    "\n",
    "Create a series of normally distributed random points based on a) the distribution center, b) the standard deviation, and c) the number of points required. This is useful for simulating data for models.\n",
    "    \n",
    "    >>>np.random.normal(75, 10, 5)\n",
    "    \n",
    "    array([ 87.65815149,  80.77955407,  75.26875019,  72.49581822,  63.34919635])"
   ]
  },
  {
   "cell_type": "markdown",
   "metadata": {},
   "source": [
    "---\n",
    "\n",
    "## Additional Learing Resources\n",
    "\n",
    "* ### [Numpy Quickstart](https://docs.scipy.org/doc/numpy-dev/user/quickstart.html)\n",
    "* ### [Datacamp Tutorial](https://www.datacamp.com/community/tutorials/python-numpy-tutorial#gs.j=Gbkzs)\n",
    "* ### [PyCon 2015 Numpy Video](https://www.youtube.com/watch?v=EEUXKG97YRw)\n"
   ]
  },
  {
   "cell_type": "markdown",
   "metadata": {},
   "source": [
    "---\n",
    "\n",
    "# Next Up: [Scipy](06_scipy.ipynb)\n",
    "\n",
    "<img style=\"margin-left: 0;\" src=\"static/scipy_logo.png\">\n",
    "\n",
    "---"
   ]
  }
 ],
 "metadata": {
  "anaconda-cloud": {},
  "kernelspec": {
   "display_name": "Python [Root]",
   "language": "python",
   "name": "Python [Root]"
  },
  "language_info": {
   "codemirror_mode": {
    "name": "ipython",
    "version": 3
   },
   "file_extension": ".py",
   "mimetype": "text/x-python",
   "name": "python",
   "nbconvert_exporter": "python",
   "pygments_lexer": "ipython3",
   "version": "3.5.2"
  }
 },
 "nbformat": 4,
 "nbformat_minor": 0
}
