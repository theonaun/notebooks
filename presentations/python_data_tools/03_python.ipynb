{
 "cells": [
  {
   "cell_type": "markdown",
   "metadata": {
    "collapsed": true
   },
   "source": [
    "<img style=\"margin-right: 0;\" src=\"static/small.jpg\">\n",
    "\n",
    "<hr>\n",
    "\n",
    "<div style=\"display: table; width: 100%\">\n",
    "    <div style=\"display: table-row; width: 100%;\">\n",
    "        <div style=\"display: table-cell; width: 50%; vertical-align: middle;\">\n",
    "                <img style=\"display: inline;\" src=\"static/python_logo.png\" style=\"overflow: hidden; width: 50%\">\n",
    "                <img src=\"static/ipython_logo.png\" style=\"overflow: hidden; width: 75%\">\n",
    "            <br>\n",
    "            <br>\n",
    "            <ul style=\"display: inline-block\">\n",
    "                <li>\n",
    "                    <a href=\"https://www.python.org/\">Python Homepage</a>\n",
    "                </li>\n",
    "                <li>\n",
    "                    <a href=\"https://docs.python.org/3/\">Python Documentation</a>\n",
    "                </li>\n",
    "                <li>\n",
    "                    <a href=\"https://docs.python.org/3/library/index.html\">Python Standard Library</a>\n",
    "                </li>\n",
    "                <li>\n",
    "                    <a href=\"https://en.wikipedia.org/wiki/Python_(programming_language)\">Python Wikipedia</a>\n",
    "                </li>\n",
    "            </ul>\n",
    "            <ul style=\"display: inline-block; vertical-align: top;\">\n",
    "                <li>\n",
    "                    <a href=\"https://ipython.org/documentation.html\">IPython Documentation</a>\n",
    "                </li>\n",
    "                <li>\n",
    "                    <a href=\"https://en.wikipedia.org/wiki/IPython\">IPython Wikipedia</a>\n",
    "                </li>\n",
    "            </ul>\n",
    "        </div>\n",
    "        <div style=\"display: table-cell; width: 10%\">\n",
    "        </div>\n",
    "        <div style=\"display: table-cell; width: 40%; vertical-align: middle;\">\n",
    "            <blockquote>\n",
    "                <p style=\"font-style: italic;\">Beautiful is better than ugly.</p>\n",
    "                <p style=\"font-style: italic;\">Explicit is better than implicit.</p>\n",
    "                <p style=\"font-style: italic;\">Simple is better than complex.</p>\n",
    "                <p style=\"font-style: italic;\">Complex is better than complicated.</p>\n",
    "                <br>\n",
    "                <p>-The Zen of Python, Tim Peters</p>\n",
    "            </blockquote>\n",
    "        </div>\n",
    "    </div>\n",
    "</div>\n",
    "\n",
    "<hr>"
   ]
  },
  {
   "cell_type": "markdown",
   "metadata": {},
   "source": [
    "## What is Python?\n",
    "\n",
    "* A general purpose programming language that focuses on simplicity and clarity.\n",
    "* The glue that allows for the different elements of the Python data analysis stack to communicate with one another.\n",
    "* Stupid simple to use and understand.\n",
    "* A language that enables people to be productive by generating results quickly.\n",
    "\n",
    "**Side note**: Python is a dynamically-typed *interpreted* language. Open up the Start Menu and the Anaconda3 folder. Click on 'IPython'. This is an interpreter. It interprets your commands through what is called a a [Read-Eval-Print loop](https://en.wikipedia.org/wiki/Read%E2%80%93eval%E2%80%93print_loop). It reads your commands after you press enter, it evaluates them, it prints the results, and then waits for your next input to read. Type `a = 1` and then press enter. Then type `a + 10` and press enter. It allows you to enter your instructions one-by-one in a convenient, interactive manner.\n",
    "\n",
    "---"
   ]
  },
  {
   "cell_type": "markdown",
   "metadata": {},
   "source": [
    "## What is IPython?\n",
    "\n",
    "* IPython is an enhanced version of the Python interpreter that is designed specifically for interactive use.\n",
    "* It has features like autocompletion, object inspection and special functions that allow for easy interaction with data.\n",
    "* More importantly for us, it is also tightly integrated with the Jupyter Notebook (in fact, the Jupyter Notebook used to be the IPython Notebook before it expanded beyond Python to other languages.\n",
    "\n",
    "---"
   ]
  },
  {
   "cell_type": "markdown",
   "metadata": {},
   "source": [
    "## What can we use Python for?\n",
    "\n",
    "* Web programming (many of the websites you use have Python on the backend for generating web templates (via [Django](https://en.wikipedia.org/wiki/Django_(web_framework))\n",
    "* GUI Programming (via [PyQT](PyQT) (pronounced 'pie-cute') ... warning GPL3)\n",
    "* System administration and system scripting (via the Python Standard Library).\n",
    "* Data analysis, via the [Scipy](https://en.wikipedia.org/wiki/SciPy) stack (pronounced 'sigh-pie').\n",
    "* Lots and lots of other stuff (see Python Package Index [PyPI](https://pypi.python.org/pypi) (pronounced 'pie-P-I').\n",
    "\n",
    "---"
   ]
  },
  {
   "cell_type": "markdown",
   "metadata": {},
   "source": [
    "## Python eccentricities"
   ]
  },
  {
   "cell_type": "code",
   "execution_count": null,
   "metadata": {
    "collapsed": false
   },
   "outputs": [],
   "source": [
    "# Remember, lines starting with # comments and are not run. \n",
    "a = 5\n",
    "\n",
    "'''Multiline\n",
    "   comments\n",
    "   done\n",
    "   like\n",
    "   this.'''\n",
    "\n",
    "if a > 1:\n",
    "    print('Greater than 1.')\n",
    "else:\n",
    "    print('Not greater than 1.')"
   ]
  },
  {
   "cell_type": "markdown",
   "metadata": {},
   "source": [
    "In Python, we have syntatically important whitespace. In other words, you have to indent certain things. This is different than most other languages where curly braces {}  are used to set code blocks apart. This, for example, would not work:\n",
    "\n",
    "    a = 5\n",
    "    \n",
    "    if a > 1:\n",
    "    print('Greater than 1.')\n",
    "    else:\n",
    "    print('Not greater than 1.)\n",
    "\n",
    "This takes some getting used to, but is a blessing in disguise because it forces you to write cleaner and more understandable code.\n",
    "\n",
    "If you come from another programming language, you'll also notice that we don't have to specify the types of our variables. The 'a' in the example above is automatically presumed to be a number because we put a number in it. It will happily treat it as a number until we do something un-number-like with it, at which point Python will complain."
   ]
  },
  {
   "cell_type": "markdown",
   "metadata": {},
   "source": [
    "To compare with a similar Java program (notice type designations and curly braces):\n",
    "    \n",
    "    public class ProgramInJava {\n",
    "    public static void main(String[] args) {\n",
    "    int a = 5;\n",
    "    if (a > 1) {\n",
    "    System.out.println(\"Greater than 1.\");\n",
    "    } else {\n",
    "    System.out.println(\"Not greater than 1.\");\n",
    "    }\n",
    "    }\n",
    "    }\n",
    "\n",
    "Normally, this would have indentation to make it clearer, but it has been removed for the purposes of demonstration."
   ]
  },
  {
   "cell_type": "markdown",
   "metadata": {},
   "source": [
    "## Common Constructs\n",
    "No need to fully understand these. Just FYI."
   ]
  },
  {
   "cell_type": "code",
   "execution_count": null,
   "metadata": {
    "collapsed": false
   },
   "outputs": [],
   "source": [
    "# You assign variables with the equals sign\n",
    "a = 5\n",
    "\n",
    "# Not to be confused with equality\n",
    "5 == 5"
   ]
  },
  {
   "cell_type": "code",
   "execution_count": null,
   "metadata": {
    "collapsed": false
   },
   "outputs": [],
   "source": [
    "# Functions\n",
    "def functiony(my_input):\n",
    "    s = 'Functions process input and give outputs like ' + my_input\n",
    "    return s\n",
    "\n",
    "\n",
    "# We invoke functions with parenthesis\n",
    "functiony('rutabega')"
   ]
  },
  {
   "cell_type": "code",
   "execution_count": null,
   "metadata": {
    "collapsed": false
   },
   "outputs": [],
   "source": [
    "# Loops\n",
    "for item in [1, 2, 3, 4, 5]:\n",
    "    print(item * 5)"
   ]
  },
  {
   "cell_type": "code",
   "execution_count": null,
   "metadata": {
    "collapsed": false
   },
   "outputs": [],
   "source": [
    "# Indexing is 0-based like other C languages\n",
    "my_list = [0, 1, 2, 3]\n",
    "\n",
    "print('First item of list is ' + str(my_list[0]))\n",
    "print('Last item of list is ' + str(my_list[-1]))\n",
    "\n",
    "# WE can also slice ranges like this\n",
    "print(my_list[0:2])\n",
    "\n",
    "# Or this\n",
    "print(my_list[1:])\n",
    "\n",
    "# Or this\n",
    "print(my_list[:2])"
   ]
  },
  {
   "cell_type": "code",
   "execution_count": null,
   "metadata": {
    "collapsed": false
   },
   "outputs": [],
   "source": [
    "# Exceptions are straightforward.\n",
    "try:\n",
    "    print(x)\n",
    "except NameError as e:\n",
    "    print('Name not found!')"
   ]
  },
  {
   "cell_type": "code",
   "execution_count": null,
   "metadata": {
    "collapsed": false
   },
   "outputs": [],
   "source": [
    "# We can also create objects for object-oriented programming\n",
    "class Classy(object):\n",
    "    \n",
    "    def __init__(self):\n",
    "        self.attribute = 'Attribute!'\n",
    "        \n",
    "    def method(self):\n",
    "        return 'Method invoked!'\n",
    "    \n",
    "    \n",
    "c = Classy()\n",
    "\n",
    "# When you see a period, you're accessing a part of it\n",
    "c.attribute"
   ]
  },
  {
   "cell_type": "markdown",
   "metadata": {},
   "source": [
    "---\n",
    "\n",
    "## IPython Enhancements\n"
   ]
  },
  {
   "cell_type": "markdown",
   "metadata": {},
   "source": [
    "### Cell Magic\n",
    "\n",
    "If you ever see a % (percent) sign in IPython code where you wouldn't expect it otherwise, it's pretty safe to assume that you're triggering some of IPython's \"[magic](https://ipython.org/ipython-doc/3/interactive/magics.html)\" commands. These commands will let you do everything from running external commands to timing how quickly certain calculations run. Some of the more common ones you will see are:\n",
    "\n",
    "    %time\n",
    "\n",
    "Which times how long it takes for your cell to run, and:\n",
    "\n",
    "    %matplotlib inline\n",
    "    \n",
    "Which makes plotting functions draw in your browser instead of in a separate window."
   ]
  },
  {
   "cell_type": "code",
   "execution_count": null,
   "metadata": {
    "collapsed": false
   },
   "outputs": [],
   "source": [
    "# Here is an example of %timeit. Use magic.\n",
    "%timeit import time; time.sleep(.1);"
   ]
  },
  {
   "cell_type": "markdown",
   "metadata": {},
   "source": [
    "### Auto Complete"
   ]
  },
  {
   "cell_type": "code",
   "execution_count": null,
   "metadata": {
    "collapsed": true
   },
   "outputs": [],
   "source": [
    "# Run this cell to enter the variable\n",
    "text = 'I am a text string'"
   ]
  },
  {
   "cell_type": "code",
   "execution_count": null,
   "metadata": {
    "collapsed": false
   },
   "outputs": [],
   "source": [
    "# After that, we can autocomplete by pressing TAB\n",
    "# Add a period to the end of the text variable.\n",
    "# This will allow you to access attributes.\n",
    "# Move until after the period, and press TAB.\n",
    "# A window should come up giving you your options.\n",
    "# Choose the \"split\" function with your arrow keys.\n",
    "# Add parenthesis to invoke the function.\n",
    "text"
   ]
  },
  {
   "cell_type": "markdown",
   "metadata": {},
   "source": [
    "### Help"
   ]
  },
  {
   "cell_type": "code",
   "execution_count": null,
   "metadata": {
    "collapsed": false
   },
   "outputs": [],
   "source": [
    "# Putting a question mark will bring up a help window.\n",
    "text?\n",
    "\n",
    "# Don't forget the built in dir() method either, which allows inspection.\n",
    "dir(text)[-5:]"
   ]
  },
  {
   "cell_type": "markdown",
   "metadata": {},
   "source": [
    "---\n",
    "\n",
    "## Additional Learing Resources\n",
    "\n",
    "* ### [Official Python.org Tutorial](https://docs.python.org/3.5/tutorial/)\n",
    "* ### [Google's Python Class](https://developers.google.com/edu/python/)\n",
    "* ### [18 Common Python Questions](https://www.datacamp.com/community/tutorials/18-most-common-python-list-questions-learn-python#gs.lFzFbeI)\n",
    "* ### [LearnPython.org Tutorial](http://www.learnpython.org/)\n",
    "* ### [Dive Into Python 3](http://www.diveintopython3.net/)"
   ]
  },
  {
   "cell_type": "markdown",
   "metadata": {},
   "source": [
    "---\n",
    "\n",
    "# Next Up: [Matplotlib](04_matplotlib.ipynb)\n",
    "\n",
    "<img style=\"margin-left: 0;\" src=\"static/matplotlib_logo.png\">\n",
    "\n",
    "---"
   ]
  }
 ],
 "metadata": {
  "anaconda-cloud": {},
  "kernelspec": {
   "display_name": "Python [Root]",
   "language": "python",
   "name": "Python [Root]"
  },
  "language_info": {
   "codemirror_mode": {
    "name": "ipython",
    "version": 3
   },
   "file_extension": ".py",
   "mimetype": "text/x-python",
   "name": "python",
   "nbconvert_exporter": "python",
   "pygments_lexer": "ipython3",
   "version": "3.5.2"
  }
 },
 "nbformat": 4,
 "nbformat_minor": 0
}
