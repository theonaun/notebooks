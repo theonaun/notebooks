{
 "cells": [
  {
   "cell_type": "markdown",
   "metadata": {
    "collapsed": true
   },
   "source": [
    "<img style=\"margin-right: 0;\" src=\"static/small.jpg\">\n",
    "\n",
    "---\n",
    "\n",
    "# Basic Python Exercises\n",
    "\n",
    "See also: [Official Python3 Tutorial](https://docs.python.org/3.6/tutorial/introduction.html)\n",
    "\n",
    "---"
   ]
  },
  {
   "cell_type": "markdown",
   "metadata": {},
   "source": [
    "### Housekeeping\n",
    "\n",
    "We've completed the \"Overview\" section of the presentation and we're now doing the in-depth examination of the packages presented. Because of the varying levels of skill of the people on this call, I can't really ensure that I'm giving you the information you need. If what I'm doing is not helpful, feel free to explore the web for other Python resources (I'd start with the items at the bottom of each notebook in the \"Other Links\" section).\n",
    "\n",
    "Even if you're not working on the specific section I am, please feel free to ask/send me questions.\n",
    "\n",
    "There's no shame in Googling things. Stack Overflow is your friend.\n",
    "\n",
    "Reminders:\n",
    "* `Shift + Enter` executes\n",
    "* `Escape` puts you in command mode\n",
    "* `Enter` puts you in edit mode\n",
    "* The `H` key in command mode brings up help"
   ]
  },
  {
   "cell_type": "code",
   "execution_count": 1,
   "metadata": {
    "collapsed": false
   },
   "outputs": [
    {
     "name": "stdout",
     "output_type": "stream",
     "text": [
      "Hello, World!\n"
     ]
    }
   ],
   "source": [
    "# 1. Make your interpreter print the statement \"Hello, world!\".\n",
    "\n",
    "print('Hello, World!')"
   ]
  },
  {
   "cell_type": "code",
   "execution_count": 2,
   "metadata": {
    "collapsed": false
   },
   "outputs": [
    {
     "name": "stdout",
     "output_type": "stream",
     "text": [
      "My string\n"
     ]
    }
   ],
   "source": [
    "# 2. Assign a string to a variable and then print the variable.\n",
    "\n",
    "a = 'My string'\n",
    "\n",
    "print(a)"
   ]
  },
  {
   "cell_type": "code",
   "execution_count": 3,
   "metadata": {
    "collapsed": false
   },
   "outputs": [
    {
     "name": "stdout",
     "output_type": "stream",
     "text": [
      "1\n",
      "2\n",
      "3\n",
      "45\n"
     ]
    }
   ],
   "source": [
    "# 3. Create a list of numbers and print every number in that list.\n",
    "\n",
    "list_o_numbers = [1,2,3,45]\n",
    "\n",
    "for item in list_o_numbers:\n",
    "    print(item)"
   ]
  },
  {
   "cell_type": "code",
   "execution_count": 4,
   "metadata": {
    "collapsed": false
   },
   "outputs": [
    {
     "name": "stdout",
     "output_type": "stream",
     "text": [
      "45\n"
     ]
    }
   ],
   "source": [
    "# 4. Create a list of numbers and print the numbers if the number is greater than 3.\n",
    "# Hint: remember to indent conditionals like 'if condition:'\n",
    "\n",
    "for item in list_o_numbers:\n",
    "    if item > 3:\n",
    "        print(item)"
   ]
  },
  {
   "cell_type": "code",
   "execution_count": 5,
   "metadata": {
    "collapsed": false
   },
   "outputs": [
    {
     "name": "stdout",
     "output_type": "stream",
     "text": [
      "[1, 2, 3]\n"
     ]
    }
   ],
   "source": [
    "# 5. Create an empty list and add 3 strings to that list.\n",
    "\n",
    "new_list = [] # list()\n",
    "\n",
    "new_list.append(1)\n",
    "new_list.append(2)\n",
    "new_list.append(3)\n",
    "\n",
    "print(new_list)"
   ]
  },
  {
   "cell_type": "code",
   "execution_count": 1,
   "metadata": {
    "collapsed": false
   },
   "outputs": [
    {
     "data": {
      "text/plain": [
       "{'MN': 'Minnesota', 'MO': 'Missouri'}"
      ]
     },
     "execution_count": 1,
     "metadata": {},
     "output_type": "execute_result"
    }
   ],
   "source": [
    "# 6. Create a dictionary that links 5 US States with their 2 letter abbreviation.\n",
    "\n",
    "dictionary = {'MO': 'Missouri', 'MN': 'Minnesota'}\n",
    "\n",
    "dictionary"
   ]
  },
  {
   "cell_type": "code",
   "execution_count": 3,
   "metadata": {
    "collapsed": false
   },
   "outputs": [
    {
     "name": "stdout",
     "output_type": "stream",
     "text": [
      "!\t\"\t#\t$\t%\t&\t'\t(\t)\t*\t+\t,\t-\t.\t/\t:\t;\t<\t=\t>\t?\t@\t[\t\\\t]\t^\t_\t`\t{\t|\t}\t~\t"
     ]
    }
   ],
   "source": [
    "# 7. Import the \"string\" module. Print every character in string.punctuation individually.\n",
    "\n",
    "import string\n",
    "\n",
    "for character in string.punctuation:\n",
    "    print(character, end='\\t')"
   ]
  },
  {
   "cell_type": "code",
   "execution_count": 10,
   "metadata": {
    "collapsed": false
   },
   "outputs": [
    {
     "name": "stdout",
     "output_type": "stream",
     "text": [
      "Dear Sir or Madam,\n",
      "\n",
      "I am a text file. Like most text files you will deal with in Python, I am encoded in UTF-8, but be aware some Windows machines encode text files as cp-1252 ... so if you run into weird errors when inputting information, that may be the reason.\n",
      "\n",
      "Very truly yours,\n",
      "Text File\n",
      "\n"
     ]
    }
   ],
   "source": [
    "# 8. Read all the information in the text_file.txt in the data folder.\n",
    "\n",
    "with open('data/text_file.txt') as f:\n",
    "    data = f.read()\n",
    "    print(data)"
   ]
  },
  {
   "cell_type": "code",
   "execution_count": 11,
   "metadata": {
    "collapsed": true
   },
   "outputs": [],
   "source": [
    "# 9. Create a string with your name and write it to a file in the data folder.\n",
    "\n",
    "with open('data/text_file_new.txt', 'w+') as f:\n",
    "    f.write('Theo')"
   ]
  },
  {
   "cell_type": "code",
   "execution_count": 12,
   "metadata": {
    "collapsed": false
   },
   "outputs": [
    {
     "name": "stdout",
     "output_type": "stream",
     "text": [
      "Hello, wolrd!\n"
     ]
    }
   ],
   "source": [
    "# 10. Create a function that prints \"Hello, world!\".\n",
    "\n",
    "def hello():\n",
    "    print('Hello, world!')\n",
    "    \n",
    "hello()"
   ]
  },
  {
   "cell_type": "code",
   "execution_count": 14,
   "metadata": {
    "collapsed": false
   },
   "outputs": [
    {
     "name": "stdout",
     "output_type": "stream",
     "text": [
      "I am doc 1!\n",
      "I am doc 1a!\n",
      "I am doc 2!\n",
      "I am doc 3!\n",
      "I am doc 3a!\n",
      "I am doc 3b!\n"
     ]
    }
   ],
   "source": [
    "# 11. Import os and use os.walk to read and print the contents of every file in data/dir_tree.\n",
    "\n",
    "import os\n",
    "\n",
    "for root, folder_names, file_names in os.walk('data/dir_tree/'):\n",
    "    for file_name in file_names:\n",
    "        path = os.path.join(root, file_name)\n",
    "        with open(path, 'r') as f:\n",
    "            print(f.read())"
   ]
  },
  {
   "cell_type": "code",
   "execution_count": 4,
   "metadata": {
    "collapsed": false
   },
   "outputs": [
    {
     "name": "stdout",
     "output_type": "stream",
     "text": [
      "0\n",
      "1\n",
      "2\n",
      "3\n",
      "4\n",
      "5\n",
      "6\n",
      "7\n",
      "8\n",
      "9\n",
      "10\n"
     ]
    }
   ],
   "source": [
    "# 12. Use a range() object to print the numbers from 1 through 10.\n",
    "\n",
    "for x in range(0, 11):\n",
    "    print(x)"
   ]
  },
  {
   "cell_type": "markdown",
   "metadata": {},
   "source": [
    "---\n",
    "\n",
    "## Next Up: [Pandas Basics](11_pandas_basics.ipynb)"
   ]
  }
 ],
 "metadata": {
  "anaconda-cloud": {},
  "kernelspec": {
   "display_name": "Python [Root]",
   "language": "python",
   "name": "Python [Root]"
  },
  "language_info": {
   "codemirror_mode": {
    "name": "ipython",
    "version": 3
   },
   "file_extension": ".py",
   "mimetype": "text/x-python",
   "name": "python",
   "nbconvert_exporter": "python",
   "pygments_lexer": "ipython3",
   "version": "3.5.2"
  }
 },
 "nbformat": 4,
 "nbformat_minor": 0
}
