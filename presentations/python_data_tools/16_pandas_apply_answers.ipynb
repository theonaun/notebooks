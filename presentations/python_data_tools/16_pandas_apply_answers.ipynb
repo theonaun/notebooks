{
 "cells": [
  {
   "cell_type": "markdown",
   "metadata": {
    "collapsed": true,
    "deletable": true,
    "editable": true
   },
   "source": [
    "<img style=\"float: right;\" src=\"static/small.jpg\">"
   ]
  },
  {
   "cell_type": "markdown",
   "metadata": {
    "deletable": true,
    "editable": true
   },
   "source": [
    "---\n",
    "\n",
    "# Pandas Apply Exercises\n",
    "\n",
    "See also: [Dataframe.apply()](http://pandas.pydata.org/pandas-docs/stable/generated/pandas.DataFrame.apply.html)\n",
    "    \n",
    "See also: [Series.map()](http://pandas.pydata.org/pandas-docs/stable/generated/pandas.Series.map.html)\n",
    "\n",
    "---"
   ]
  },
  {
   "cell_type": "code",
   "execution_count": 1,
   "metadata": {
    "collapsed": false,
    "deletable": true,
    "editable": true
   },
   "outputs": [],
   "source": [
    "# 1. import pandas as pd / pd.read_csv() the simple.csv. Get top 3 entries via .head() and assign to df.\n",
    "\n",
    "import pandas as pd\n",
    "df = pd.read_csv('data/simple.csv').head(3)"
   ]
  },
  {
   "cell_type": "code",
   "execution_count": 2,
   "metadata": {
    "collapsed": false,
    "deletable": true,
    "editable": true
   },
   "outputs": [
    {
     "data": {
      "text/plain": [
       "<function __main__.print_info>"
      ]
     },
     "execution_count": 2,
     "metadata": {},
     "output_type": "execute_result"
    }
   ],
   "source": [
    "# 2. Define a function that takes an input, prints .name attribute of input, prints type(input) and prints the input.\n",
    "\n",
    "def print_info(x):\n",
    "    print(x.name)\n",
    "    print(type(x))\n",
    "    print(x)\n",
    "\n",
    "print_info"
   ]
  },
  {
   "cell_type": "code",
   "execution_count": 5,
   "metadata": {
    "collapsed": false,
    "deletable": true,
    "editable": true
   },
   "outputs": [
    {
     "name": "stdout",
     "output_type": "stream",
     "text": [
      "0\n",
      "<class 'pandas.core.series.Series'>\n",
      "Date                                12/1/2016\n",
      "Count                                      11\n",
      "Weird Date     \\tThursday,  December 01, 2016\n",
      "Weird Count                                11\n",
      "Name: 0, dtype: object\n",
      "1\n",
      "<class 'pandas.core.series.Series'>\n",
      "Date                           12/2/2016\n",
      "Count                                NaN\n",
      "Weird Date     Friday, December 02, 2016\n",
      "Weird Count                          NaN\n",
      "Name: 1, dtype: object\n",
      "2\n",
      "<class 'pandas.core.series.Series'>\n",
      "Date                             12/3/2016\n",
      "Count                                   49\n",
      "Weird Date     Saturday, December 03, 2016\n",
      "Weird Count                             49\n",
      "Name: 2, dtype: object\n"
     ]
    }
   ],
   "source": [
    "# 3. Use the dataframe.apply() method, and supply the function (with no parenthesis) and axis=1\n",
    "\n",
    "output = df.apply(print_info, axis=1)"
   ]
  },
  {
   "cell_type": "code",
   "execution_count": 6,
   "metadata": {
    "collapsed": false,
    "deletable": true,
    "editable": true
   },
   "outputs": [
    {
     "name": "stdout",
     "output_type": "stream",
     "text": [
      "Date\n",
      "<class 'pandas.core.series.Series'>\n",
      "0    12/1/2016\n",
      "1    12/2/2016\n",
      "2    12/3/2016\n",
      "Name: Date, dtype: object\n",
      "Count\n",
      "<class 'pandas.core.series.Series'>\n",
      "0     11\n",
      "1    NaN\n",
      "2     49\n",
      "Name: Count, dtype: object\n",
      "Weird Date\n",
      "<class 'pandas.core.series.Series'>\n",
      "0    \\tThursday,  December 01, 2016\n",
      "1         Friday, December 02, 2016\n",
      "2       Saturday, December 03, 2016\n",
      "Name: Weird Date, dtype: object\n",
      "Weird Count\n",
      "<class 'pandas.core.series.Series'>\n",
      "0     11\n",
      "1    NaN\n",
      "2     49\n",
      "Name: Weird Count, dtype: object\n"
     ]
    },
    {
     "data": {
      "text/plain": [
       "Date           None\n",
       "Count          None\n",
       "Weird Date     None\n",
       "Weird Count    None\n",
       "dtype: object"
      ]
     },
     "execution_count": 6,
     "metadata": {},
     "output_type": "execute_result"
    }
   ],
   "source": [
    "# 4. Now do it with axis=0. Which one of these does a function by row? Which by column? Significance of .name?\n",
    "\n",
    "df.apply(print_info, axis=0)"
   ]
  },
  {
   "cell_type": "code",
   "execution_count": 7,
   "metadata": {
    "collapsed": false,
    "deletable": true,
    "editable": true
   },
   "outputs": [
    {
     "data": {
      "text/plain": [
       "<function __main__.get_count>"
      ]
     },
     "execution_count": 7,
     "metadata": {},
     "output_type": "execute_result"
    }
   ],
   "source": [
    "# 5. Write a function for a row series that gets the date and count and prints \"The Count was X on Date X.\"\n",
    "\n",
    "def get_count(row):\n",
    "    date = row['Date']\n",
    "    count = row['Count']\n",
    "    print(\"The count was {} on date {}.\".format(count, date))\n",
    "\n",
    "get_count"
   ]
  },
  {
   "cell_type": "code",
   "execution_count": 8,
   "metadata": {
    "collapsed": false,
    "deletable": true,
    "editable": true
   },
   "outputs": [
    {
     "name": "stdout",
     "output_type": "stream",
     "text": [
      "0    The count was 11.0 on date 12/1/2016.\n",
      "1     The count was nan on date 12/2/2016.\n",
      "2    The count was 49.0 on date 12/3/2016.\n",
      "dtype: object\n"
     ]
    },
    {
     "data": {
      "text/plain": [
       "pandas.core.series.Series"
      ]
     },
     "execution_count": 8,
     "metadata": {},
     "output_type": "execute_result"
    }
   ],
   "source": [
    "# 6. Write a function that returns a string. Apply this function to your dataframe. What is the result?\n",
    "\n",
    "def get_count_string(row):\n",
    "    date = row['Date']\n",
    "    count = row['Count']\n",
    "    return \"The count was {} on date {}.\".format(count, date)\n",
    "\n",
    "print(df.apply(get_count_string, axis=1))\n",
    "\n",
    "type(df.apply(get_count_string, axis=1))"
   ]
  },
  {
   "cell_type": "code",
   "execution_count": 10,
   "metadata": {
    "collapsed": false,
    "deletable": true,
    "editable": true
   },
   "outputs": [
    {
     "data": {
      "text/html": [
       "<div>\n",
       "<table border=\"1\" class=\"dataframe\">\n",
       "  <thead>\n",
       "    <tr style=\"text-align: right;\">\n",
       "      <th></th>\n",
       "      <th>Date</th>\n",
       "      <th>Count</th>\n",
       "      <th>Weird Date</th>\n",
       "      <th>Weird Count</th>\n",
       "      <th>New Column 1</th>\n",
       "    </tr>\n",
       "  </thead>\n",
       "  <tbody>\n",
       "    <tr>\n",
       "      <th>0</th>\n",
       "      <td>12/1/2016</td>\n",
       "      <td>11.0</td>\n",
       "      <td>\\tThursday,  December 01, 2016</td>\n",
       "      <td>11</td>\n",
       "      <td>The count was 11.0 on date 12/1/2016.</td>\n",
       "    </tr>\n",
       "    <tr>\n",
       "      <th>1</th>\n",
       "      <td>12/2/2016</td>\n",
       "      <td>NaN</td>\n",
       "      <td>Friday, December 02, 2016</td>\n",
       "      <td>NaN</td>\n",
       "      <td>The count was nan on date 12/2/2016.</td>\n",
       "    </tr>\n",
       "    <tr>\n",
       "      <th>2</th>\n",
       "      <td>12/3/2016</td>\n",
       "      <td>49.0</td>\n",
       "      <td>Saturday, December 03, 2016</td>\n",
       "      <td>49</td>\n",
       "      <td>The count was 49.0 on date 12/3/2016.</td>\n",
       "    </tr>\n",
       "  </tbody>\n",
       "</table>\n",
       "</div>"
      ],
      "text/plain": [
       "        Date  Count                      Weird Date Weird Count  \\\n",
       "0  12/1/2016   11.0  \\tThursday,  December 01, 2016          11   \n",
       "1  12/2/2016    NaN       Friday, December 02, 2016         NaN   \n",
       "2  12/3/2016   49.0     Saturday, December 03, 2016          49   \n",
       "\n",
       "                            New Column 1  \n",
       "0  The count was 11.0 on date 12/1/2016.  \n",
       "1   The count was nan on date 12/2/2016.  \n",
       "2  The count was 49.0 on date 12/3/2016.  "
      ]
     },
     "execution_count": 10,
     "metadata": {},
     "output_type": "execute_result"
    }
   ],
   "source": [
    "# 7. Use your new function, and assign the returned series it to a new column, df['New Column 1']\n",
    "\n",
    "df['New Column 1'] = df.apply(get_count_string, axis=1)\n",
    "df"
   ]
  },
  {
   "cell_type": "code",
   "execution_count": 11,
   "metadata": {
    "collapsed": false,
    "deletable": true,
    "editable": true
   },
   "outputs": [
    {
     "data": {
      "text/plain": [
       "0    16.0\n",
       "1     NaN\n",
       "2    54.0\n",
       "Name: Count, dtype: float64"
      ]
     },
     "execution_count": 11,
     "metadata": {},
     "output_type": "execute_result"
    }
   ],
   "source": [
    "# 8. Write a function that takes a count and adds 5.  Use map() with your function on your df['Count'] \n",
    "\n",
    "def add_to_count(cell_value):\n",
    "    new_value = cell_value + 5\n",
    "    return new_value\n",
    "\n",
    "df['Count'].map(add_to_count)"
   ]
  },
  {
   "cell_type": "code",
   "execution_count": 13,
   "metadata": {
    "collapsed": false,
    "deletable": true,
    "editable": true
   },
   "outputs": [
    {
     "data": {
      "text/html": [
       "<div>\n",
       "<table border=\"1\" class=\"dataframe\">\n",
       "  <thead>\n",
       "    <tr style=\"text-align: right;\">\n",
       "      <th></th>\n",
       "      <th>Date</th>\n",
       "      <th>Count</th>\n",
       "      <th>Weird Date</th>\n",
       "      <th>Weird Count</th>\n",
       "      <th>New Column 1</th>\n",
       "      <th>New Column 2</th>\n",
       "    </tr>\n",
       "  </thead>\n",
       "  <tbody>\n",
       "    <tr>\n",
       "      <th>0</th>\n",
       "      <td>12/1/2016</td>\n",
       "      <td>11.0</td>\n",
       "      <td>\\tThursday,  December 01, 2016</td>\n",
       "      <td>11</td>\n",
       "      <td>The count was 11.0 on date 12/1/2016.</td>\n",
       "      <td>16.0</td>\n",
       "    </tr>\n",
       "    <tr>\n",
       "      <th>1</th>\n",
       "      <td>12/2/2016</td>\n",
       "      <td>NaN</td>\n",
       "      <td>Friday, December 02, 2016</td>\n",
       "      <td>NaN</td>\n",
       "      <td>The count was nan on date 12/2/2016.</td>\n",
       "      <td>NaN</td>\n",
       "    </tr>\n",
       "    <tr>\n",
       "      <th>2</th>\n",
       "      <td>12/3/2016</td>\n",
       "      <td>49.0</td>\n",
       "      <td>Saturday, December 03, 2016</td>\n",
       "      <td>49</td>\n",
       "      <td>The count was 49.0 on date 12/3/2016.</td>\n",
       "      <td>54.0</td>\n",
       "    </tr>\n",
       "  </tbody>\n",
       "</table>\n",
       "</div>"
      ],
      "text/plain": [
       "        Date  Count                      Weird Date Weird Count  \\\n",
       "0  12/1/2016   11.0  \\tThursday,  December 01, 2016          11   \n",
       "1  12/2/2016    NaN       Friday, December 02, 2016         NaN   \n",
       "2  12/3/2016   49.0     Saturday, December 03, 2016          49   \n",
       "\n",
       "                            New Column 1  New Column 2  \n",
       "0  The count was 11.0 on date 12/1/2016.          16.0  \n",
       "1   The count was nan on date 12/2/2016.           NaN  \n",
       "2  The count was 49.0 on date 12/3/2016.          54.0  "
      ]
     },
     "execution_count": 13,
     "metadata": {},
     "output_type": "execute_result"
    }
   ],
   "source": [
    "# 9. This returns a series with each value individually altered. Assign the result to df['New Column 2]\n",
    "\n",
    "df['New Column 2'] = df['Count'].map(add_to_count)\n",
    "df"
   ]
  },
  {
   "cell_type": "markdown",
   "metadata": {
    "collapsed": true,
    "deletable": true,
    "editable": true
   },
   "source": [
    "# Next: [Matplotlib Basics](17_matplotlib_basics.ipynb)"
   ]
  }
 ],
 "metadata": {
  "anaconda-cloud": {},
  "kernelspec": {
   "display_name": "Python [Root]",
   "language": "python",
   "name": "Python [Root]"
  },
  "language_info": {
   "codemirror_mode": {
    "name": "ipython",
    "version": 3
   },
   "file_extension": ".py",
   "mimetype": "text/x-python",
   "name": "python",
   "nbconvert_exporter": "python",
   "pygments_lexer": "ipython3",
   "version": "3.5.2"
  }
 },
 "nbformat": 4,
 "nbformat_minor": 0
}
