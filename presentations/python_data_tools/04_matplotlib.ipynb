{
 "cells": [
  {
   "cell_type": "markdown",
   "metadata": {
    "collapsed": true
   },
   "source": [
    "<img style=\"margin-right: 0;\" src=\"static/small.jpg\">\n",
    "\n",
    "<hr>\n",
    "\n",
    "<div style=\"display: table; width: 100%\">\n",
    "    <div style=\"display: table-row; width: 100%;\">\n",
    "        <div style=\"display: table-cell; width: 50%; vertical-align: middle;\">\n",
    "                <img style=\"display: inline;\" src=\"static/matplotlib_logo.png\" style=\"overflow: hidden;\">\n",
    "            <br>\n",
    "            <br>\n",
    "            <ul style=\"display: inline-block\">\n",
    "                <li>\n",
    "                    <a href=\"http://matplotlib.org/\">Matplotlib Home</a>\n",
    "                </li>\n",
    "                <li>\n",
    "                    <a href=\"http://matplotlib.org/api/\">Matplotlib API</a>\n",
    "                </li>\n",
    "                <li>\n",
    "                    <a href=\"https://en.wikipedia.org/wiki/Matplotlib\">Matplotlib Wikipedia</a>\n",
    "                </li>\n",
    "                <li>\n",
    "                    <a href=\"http://matplotlib.org/gallery.html\">Matplotlib Gallery</a>\n",
    "                </li>                \n",
    "                <li>\n",
    "                    <a href=\"http://matplotlib.org/xkcd/index.html\">Matplotlib XKCD Mode</a>\n",
    "                </li>\n",
    "            </ul>\n",
    "        </div>\n",
    "        <div style=\"display: table-cell; width: 10%\">\n",
    "        </div>\n",
    "        <div style=\"display: table-cell; width: 40%; vertical-align: middle;\">\n",
    "            <blockquote>\n",
    "                <p style=\"font-style: italic;\">A good sketch is better than a long speech.</p>\n",
    "                <br>\n",
    "                <p>-Napoleon Bonaparte</p>\n",
    "            </blockquote>\n",
    "        </div>\n",
    "    </div>\n",
    "</div>\n",
    "\n",
    "<hr>\n",
    "\n",
    "\n"
   ]
  },
  {
   "cell_type": "markdown",
   "metadata": {},
   "source": [
    "## What is Matplotlib?\n",
    "\n",
    "### A Python-based plotting library:\n",
    "\n",
    "* With support for a variety of different types of graphs\n",
    "* Using a MATLAB-like API\n",
    "* With support for integration with the IPython Notebook\n",
    "* That is used by Pandas for easy graphing operations"
   ]
  },
  {
   "cell_type": "markdown",
   "metadata": {},
   "source": [
    "## What kind of 2 and 3 dimensional graphs are covered?\n",
    "\n",
    "* Line\n",
    "* Area\n",
    "* Bar (vertical, horizontal, stacked)\n",
    "* Pie\n",
    "* Scatter\n",
    "* Boxplot\n",
    "* Polarplot\n",
    "* Hexbins\n",
    "* Heatmaps\n",
    "* Any arbitrary combination of the above"
   ]
  },
  {
   "cell_type": "markdown",
   "metadata": {},
   "source": [
    "## How will we use Matplotlib?\n",
    "\n",
    "### If you're a beginner, you'll probably only be using matplotlib via [Pandas](http://pandas.pydata.org/pandas-docs/version/0.18.1/visualization.html). This way plotting can be as simple as a single command."
   ]
  },
  {
   "cell_type": "code",
   "execution_count": null,
   "metadata": {
    "collapsed": false
   },
   "outputs": [],
   "source": [
    "# Import matplotlib\n",
    "import matplotlib\n",
    "\n",
    "# Import pandas\n",
    "import pandas as pd\n",
    "\n",
    "# Tell matplotlib to plot in this window instead of a separate window.\n",
    "%matplotlib inline\n",
    "\n",
    "# Load data into dataframe (we will get to this later)\n",
    "df = pd.read_csv('data/simple.csv')\n",
    "\n",
    "# Plot data as line plot using simple function.\n",
    "df.plot()"
   ]
  },
  {
   "cell_type": "code",
   "execution_count": null,
   "metadata": {
    "collapsed": false
   },
   "outputs": [],
   "source": [
    "# Tip: the 538 blog-like styling looks nicer.\n",
    "matplotlib.style.use('fivethirtyeight')\n",
    "\n",
    "# Plot as histogram using slightly more complicated function.\n",
    "df.plot.hist(bins=30)"
   ]
  },
  {
   "cell_type": "code",
   "execution_count": null,
   "metadata": {
    "collapsed": false
   },
   "outputs": [],
   "source": [
    "# Because it's matplotlib-based, you can feed in matplotlib options\n",
    "df.plot(linestyle='--', marker='o', color='red', linewidth=.50)"
   ]
  },
  {
   "cell_type": "code",
   "execution_count": null,
   "metadata": {
    "collapsed": false
   },
   "outputs": [],
   "source": [
    "# If it's easier, df.plot() gives a matplotlib axes object for customization\n",
    "axes = df.plot()\n",
    "axes.annotate('Manual Annotation', (10, 40))\n",
    "\n",
    "# We can also do this programatically:\n",
    "for number in [10, 20, 30, 40, 50]:\n",
    "    axes.annotate('Auto-Annotation', (number, number))"
   ]
  },
  {
   "cell_type": "markdown",
   "metadata": {
    "collapsed": true
   },
   "source": [
    "### As you get more experienced you may want to use matplotlib directly:\n",
    "\n",
    "Where matplotlib gets really [fancy](http://matplotlib.org/gallery.html) is when you write your own graphs from scratch. You can also use a higher-level library like [seaborn](http://seaborn.pydata.org/).\n",
    "\n",
    "While you're getting started, you'll want to limit use:\n",
    "* [matplotlib.pyplot](http://matplotlib.org/api/pyplot_api.html) (often imported as plt) as your toolbox\n",
    "* Your [figure](http://matplotlib.org/api/figure_api.html) which you can think of as your canvas and everything else associated with your canvas, like axes.\n",
    "* Your [axes](http://matplotlib.org/api/axes_api.html) which you can think of as the X and Y axes that tie your data to your plot.\n",
    "\n",
    "Note: at any one time you are only working on a single figure. Things get considerably more complicated when working on multiple figures. plt.gca() (get current axis) and plt.gcf() (get current figure) are helpful."
   ]
  },
  {
   "cell_type": "code",
   "execution_count": null,
   "metadata": {
    "collapsed": false
   },
   "outputs": [],
   "source": [
    "# Import plottting because we're not using pandas\n",
    "import matplotlib.pyplot as plt\n",
    "\n",
    "# Clear any existing figures to be safe.\n",
    "plt.clf()\n",
    "\n",
    "# Create figure and axis\n",
    "fig, axes = plt.subplots()\n",
    "\n",
    "# plot scatter (s is size)\n",
    "a = axes.scatter([1, 2, 3, 4], [1, 4, 9, 16], s=50, label='My Scatter')\n",
    "\n",
    "# Add an arbitrary line\n",
    "axes.plot([1, 2, 3, 4], [1, 2, 3, 4], label='My Line')"
   ]
  },
  {
   "cell_type": "code",
   "execution_count": null,
   "metadata": {
    "collapsed": false
   },
   "outputs": [],
   "source": [
    "# Get the items we've already plotted\n",
    "lines = axes.get_lines()\n",
    "\n",
    "# We can get children of axes to reference elements\n",
    "children = axes.get_children()\n",
    "\n",
    "# In this case, scatter is child 0\n",
    "scatter_points = children[0] # this is how we index objects.\n",
    "scatter_points.set_color('red')\n",
    "\n",
    "# In this case, the line is 1\n",
    "line = children[1]\n",
    "line.set_linestyle('-.')\n",
    "\n",
    "# Make background white\n",
    "axes.patch.set_facecolor('white')\n",
    "fig.patch.set_facecolor('white')\n",
    "\n",
    "# Print children for reference\n",
    "for child in children:\n",
    "    print(child)\n",
    "\n",
    "fig"
   ]
  },
  {
   "cell_type": "code",
   "execution_count": null,
   "metadata": {
    "collapsed": false
   },
   "outputs": [],
   "source": [
    "# Zoom out\n",
    "axes.set_xbound(0, 10)\n",
    "\n",
    "# Set labels\n",
    "axes.set_xticklabels(['Small', 'Medium', 'Large'])\n",
    "axes.set_xlabel('Size')\n",
    "\n",
    "# Set title\n",
    "axes.set_title('Graphing Stuff')\n",
    "\n",
    "# Set legend\n",
    "axes.legend()\n",
    "\n",
    "# Save figure to PNG\n",
    "fig.savefig('data/output.png')\n",
    "\n",
    "fig"
   ]
  },
  {
   "cell_type": "code",
   "execution_count": null,
   "metadata": {
    "collapsed": false
   },
   "outputs": [],
   "source": [
    "# We already did this, but just for completeness sake\n",
    "import matplotlib\n",
    "%matplotlib inline \n",
    "\n",
    "# Import the actual plotting tool (pyplot)\n",
    "from matplotlib import pyplot as plt\n",
    "\n",
    "# Import numpy\n",
    "import numpy as np\n",
    "\n",
    "plt.gcf()\n",
    "\n",
    "\n",
    "with plt.xkcd():\n",
    "\n",
    "    fig = plt.figure()\n",
    "    ax = fig.add_subplot(1, 1, 1)\n",
    "    ax.bar([-0.125, 1.0-0.125], [25, 100], 0.25)\n",
    "    ax.spines['right'].set_color('none')\n",
    "    ax.spines['top'].set_color('none')\n",
    "    ax.xaxis.set_ticks_position('bottom')\n",
    "    ax.set_xticks([0, 1])\n",
    "    ax.set_xlim([-0.5, 1.5])\n",
    "    ax.set_ylim([0, 110])\n",
    "    ax.set_xticklabels(['Intuitively\\nExplains Complex\\nRelationships',\n",
    "                        'People Expect\\nShiny, Science-y\\nData Thingies'])\n",
    "    plt.yticks([])\n",
    "\n",
    "    plt.title(\"Reasons to Make a Graph @ U.S. Bank\")\n",
    "\n",
    "    font = {'size' : 18}\n",
    "\n",
    "    matplotlib.rc('font', **font)\n",
    "\n",
    "    im = plt.imread(\"static/small.jpg\")\n",
    "    implot = plt.imshow(im, aspect='auto', extent=[.1,  1, 55, 75], alpha=.25)\n",
    "\n",
    "    fig.patch.set_facecolor('white')\n",
    "    ax.patch.set_facecolor('white')\n",
    "\n",
    "    plt.show()"
   ]
  },
  {
   "cell_type": "markdown",
   "metadata": {
    "collapsed": true
   },
   "source": [
    "### Note: if you're looking for something more interactive/Tableau-like, see [bokeh](http://bokeh.pydata.org/en/latest/docs/gallery.html).\n",
    "\n",
    "### Note: Matplotlib plots *points* and not formulae. \n",
    "If you have a formula, create a range of points via np.arange() or np.linspace(), and then graph your points vs. the output of the formula.\n",
    "\n",
    "---"
   ]
  },
  {
   "cell_type": "markdown",
   "metadata": {},
   "source": [
    "## Additional Learing Resources\n",
    "\n",
    "* ### [Scipy Matplotlib Tutorial](http://www.scipy-lectures.org/intro/matplotlib/matplotlib.html#introduction)\n",
    "* ### [PyPlot Tutorial](http://matplotlib.org/users/pyplot_tutorial.html)\n",
    "* ### [PyCon 2015 Tutorial](https://www.youtube.com/watch?v=MKucn8NtVeI)\n",
    "* ### [YouTube Tutorial](https://www.youtube.com/watch?v=q7Bo_J8x_dw&list=PLQVvvaa0QuDfefDfXb9Yf0la1fPDKluPF)\n"
   ]
  },
  {
   "cell_type": "markdown",
   "metadata": {
    "collapsed": true
   },
   "source": [
    "---\n",
    "\n",
    "# Next Up: [Numpy](05_numpy.ipynb)\n",
    "\n",
    "<img style=\"margin-left: 0;\" src=\"static/numpy_logo.jpg\">\n",
    "\n",
    "---"
   ]
  }
 ],
 "metadata": {
  "anaconda-cloud": {},
  "kernelspec": {
   "display_name": "Python [Root]",
   "language": "python",
   "name": "Python [Root]"
  },
  "language_info": {
   "codemirror_mode": {
    "name": "ipython",
    "version": 3
   },
   "file_extension": ".py",
   "mimetype": "text/x-python",
   "name": "python",
   "nbconvert_exporter": "python",
   "pygments_lexer": "ipython3",
   "version": "3.5.2"
  }
 },
 "nbformat": 4,
 "nbformat_minor": 0
}
