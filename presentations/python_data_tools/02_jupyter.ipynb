{
 "cells": [
  {
   "cell_type": "markdown",
   "metadata": {
    "collapsed": true
   },
   "source": [
    "<img style=\"margin-right: 0;\" src=\"static/small.jpg\">\n",
    "\n",
    "<hr>\n",
    "\n",
    "<div style=\"display: table; width: 100%\">\n",
    "    <div style=\"display: table-row; width: 100%;\">\n",
    "        <div style=\"display: table-cell; width: 50%; vertical-align: middle;\">\n",
    "            <img src=\"static/jupyter_logo.png\" style=\"overflow: hidden;\">\n",
    "            <br>\n",
    "            <br>\n",
    "            <ul>\n",
    "                <li>\n",
    "                    <a href=\"http://jupyter.org/\">Jupyter Homepage</a>\n",
    "                </li>\n",
    "                <li>\n",
    "                    <a href=\"http://jupyter.readthedocs.io/en/latest/\">Jupyter Documentation</a>\n",
    "                </li>\n",
    "            </ul>\n",
    "        </div>\n",
    "        <div style=\"display: table-cell; width: 10%\">\n",
    "        </div>\n",
    "        <div style=\"display: table-cell; width: 40%; vertical-align: top;\">\n",
    "            <blockquote>\n",
    "                <p style=\"font-style: italic;\">Ever tried.</p>\n",
    "                <p style=\"font-style: italic;\">Ever failed.</p>\n",
    "                <p style=\"font-style: italic;\">No matter.</p>\n",
    "                <p style=\"font-style: italic;\">Try again.</p>\n",
    "                <p style=\"font-style: italic;\">Fail again.</p>\n",
    "                <p style=\"font-style: italic;\">Fail better.</p>\n",
    "                <br>\n",
    "                <p>-Samuel Beckett</p>\n",
    "            </blockquote>\n",
    "        </div>\n",
    "    </div>\n",
    "</div>\n",
    "\n",
    "<hr>"
   ]
  },
  {
   "cell_type": "markdown",
   "metadata": {},
   "source": [
    "## Welcome to the Jupyter Notebook! \n",
    "\n",
    "## First, a quick tour:\n",
    "\n",
    "* The Jupyter Notebook is an HTML-based wrapper around a Python (specificially IPython) kernel.\n",
    "* It works inside of your web browser much like a regular web application, though it's actually \"hosted\" on your computer.\n",
    "* It is comprised of a series of cells, which allows you to tackle problems in an iterative manner.\n",
    "\n",
    "<br>\n",
    "\n",
    "---"
   ]
  },
  {
   "cell_type": "markdown",
   "metadata": {
    "collapsed": true
   },
   "source": [
    "## These cells can be used to display [Markdown](https://en.wikipedia.org/wiki/Markdown):\n",
    "\n",
    "* Bulleted Markdown element 1.\n",
    "* Bulleted Markdown element 1.\n",
    "\n",
    "<br>\n",
    "\n",
    "## or [HTML](https://en.wikipedia.org/wiki/HTML) like this:\n",
    "\n",
    "<table style=\"margin-left: 0;\">\n",
    "    <tr>`\n",
    "        <td>HTML table cell 1.</td>\n",
    "        <td>HTML table cell 2.</td>\n",
    "    </tr>\n",
    "</table>\n",
    "\n",
    "<br>\n",
    "\n",
    "## or [LaTeX](https://en.wikipedia.org/wiki/LaTeX) like this:\n",
    "\n",
    "### $\\LaTeX$ $\\not=$ $\\pi$ $\\cdot$ $\\left(\\frac{1}{9} \\right)^2$\n",
    "\n",
    "<br>\n",
    "\n",
    "---\n",
    "\n",
    "<br>"
   ]
  },
  {
   "cell_type": "code",
   "execution_count": null,
   "metadata": {
    "collapsed": true
   },
   "outputs": [],
   "source": [
    "# Most importantly, these cells can contain runnable Python code.\n",
    "for item in ['This', 'cell', 'was', 'just', 'executed.']:\n",
    "    print(item)"
   ]
  },
  {
   "cell_type": "markdown",
   "metadata": {},
   "source": [
    "<br>\n",
    "\n",
    "---\n",
    "\n",
    "### Cells will default to 'Code', but can be changed back and forth via the 'Code' or 'Markdown' dropdown box in the toolbar up top.\n",
    "\n",
    "---\n",
    "\n",
    "<br>"
   ]
  },
  {
   "cell_type": "markdown",
   "metadata": {},
   "source": [
    "# Cell to tinker with.\n",
    "* Unordered list to mess with\n",
    "* Unordered list continued\n",
    "\n",
    "---"
   ]
  },
  {
   "cell_type": "markdown",
   "metadata": {
    "collapsed": true
   },
   "source": [
    "## Modes\n",
    "\n",
    "### Generally:\n",
    "\n",
    "Jupyter is fairly intuitive, but you should be aware there are two *modes* through which you can interact with the notebook. These modes are the \"Command Mode\", and the \"Edit Mode\".\n",
    "\n",
    "### TL;DR:\n",
    "* `Escape` takes you to Command Mode, which is used for the notebook as a whole.\n",
    "* `Return` takes you to Edit Mode, which is used for editing individuals cells.\n",
    "* `Shift + Enter` or `Control + Enter` runs a cell.\n",
    "* Pressing the `H` key in Command Mode brings up the Help Screen.\n",
    "* `Control + Shift + P` key brings up command palette.\n",
    "* For this presentation, you really only need your mouse and `Shift + Enter`.\n",
    "\n",
    "\n",
    "#### Command Mode:\n",
    "\n",
    "Click ONCE on the \"cell to tinker with\" above or use your arrow keys to navigate to that cell. A <font color='#0070ff'>vertical blue bar</font>  should appear to the left of the cell because you have now selected the cell. This bar indicates that you are in Command Mode. \n",
    "\n",
    "Command Mode is used to run cells or interact with the notebook as a whole. While the cell is selected and in Command Mode, press `B`. This will insert a cell underneath it (you are not expected to memorize this ... know that pressing `H` in command mode brings up a Help Screen). You can get into Command Mode from Edit Mode by pressing `Enter`.\n",
    "\n",
    "#### Edit Mode:\n",
    "\n",
    "Click TWICE on the \"cell to tinker with\" above, or move or select the cell in Command Mode and press `Enter`. A <font color='#009f00'>vertical green bar</font>  should appear to the left of the cell. This bar indicates that you are in Edit Mode. You can now change the contents of this cell, and when you have completed your edits press `Shift + Enter` to input them and switch back to Command Mode. Try changing the \"cell to tinker with\" cell and changing its contents. Feel free to change it back and forth from markdown to code. If you're feeling dangerous, you can try running a code cell with `Shift + Enter`.\n",
    "\n",
    "---"
   ]
  },
  {
   "cell_type": "markdown",
   "metadata": {
    "collapsed": true
   },
   "source": [
    "## Toolbar\n",
    "\n",
    "### Basics\n",
    "\n",
    "* The toolbar up top is much like the toolbars you've used with other applications.\n",
    "* If you click on the title area that says, \"02_jupyter\", you can change the name of this notebook.\n",
    "* If you press the disk icon, you can save any changes you've made to this notebook.\n",
    "* There are also buttons for cutting, copying, stopping/restarting the kernel if it crashes, the previously mentioned markdown or code box, and icons that allow you to go into \"Presentation Mode\", which is outside the scope of our converesation today.\n",
    "* You still have access to your browser for things like zoom, print, etc.\n",
    "\n",
    "### Menus\n",
    "\n",
    "* **File**: allows for saving, exporting in HTML/ipynb/etc, copying, the creation of new notebook, and associated file operations.\n",
    "* **Edit**: allows for cutting, pasting, find/replace, and cell splitting.\n",
    "* **View**: allows you to tweak your view, but should be used sparingly.\n",
    "* **Insert**: allows for the insertion of cells.\n",
    "* **Cell**: allows you to run an individual cell, run a series of cells, change a cell type, and clear/show cell output.\n",
    "* **Kernel**: allows you to interact with the iPython kernel (think of it as the machine that does all the calculations). You can stop, restart, or create new kernels.\n",
    "* **Help**: has a user interface tour, provides guidance on commands, keyboard shortcuts, markdown, and other information.\n",
    "\n",
    "---"
   ]
  },
  {
   "cell_type": "markdown",
   "metadata": {},
   "source": [
    "## Navigation Window\n",
    "\n",
    "### Basics\n",
    "\n",
    "* If you go to the Start Menu, and open the Anaconda3 folder, you will see a number of options.\n",
    "* Click the Jupyter Notebook. A new browser tab and kernel output kernel will appear. It will say \"Home\" at the top.\n",
    "* This is the Jupyter Home window, and it allows you to do things like stop kernels, find iPython notebooks, or create notebooks.\n",
    "* It defaults to your Documents folder.\n",
    "* For security reasons, the notebook cannot go to a higher parent directory than which it is started. If you want to start it in a different directory, you will have to do so by opening a Jupyter Notebook file in a different folder or use the command line.\n",
    "* Note: to use double-clicks to open Jupyter Notebook (ipynb) files, you can right click on a file, select \"Open With\", and browse for the location of the notebook executable (typically: C:\\\\Anaconda3\\Scripts\\jupyter-notebook.exe).\n",
    "\n",
    "---"
   ]
  },
  {
   "cell_type": "markdown",
   "metadata": {},
   "source": [
    "## So what?\n",
    "\n",
    "* ### It's a web-app-ish thing that's not even connected to the web. How does Jupyter benefit us?\n",
    "\n",
    "---"
   ]
  },
  {
   "cell_type": "markdown",
   "metadata": {},
   "source": [
    "### 1) Jupyter allows for iterative development; this pipeline approach is a great way to approach data discovery and analysis."
   ]
  },
  {
   "cell_type": "code",
   "execution_count": null,
   "metadata": {
    "collapsed": true
   },
   "outputs": [],
   "source": [
    "# We can type in one cell, and press Shift + Enter to run it.\n",
    "a = 'The quick brown fox jumped over the lazy brown dog.'"
   ]
  },
  {
   "cell_type": "code",
   "execution_count": null,
   "metadata": {
    "collapsed": true
   },
   "outputs": [],
   "source": [
    "# We can then transform the result from that cell and run it.\n",
    "b = a.upper()"
   ]
  },
  {
   "cell_type": "code",
   "execution_count": null,
   "metadata": {
    "collapsed": false
   },
   "outputs": [],
   "source": [
    "# And use the result. Note: comments start with # and aren't executed.\n",
    "b"
   ]
  },
  {
   "cell_type": "code",
   "execution_count": null,
   "metadata": {
    "collapsed": true
   },
   "outputs": [],
   "source": [
    "# And if we don't like the result, we can go back and do something else\n",
    "c = a.title()"
   ]
  },
  {
   "cell_type": "code",
   "execution_count": null,
   "metadata": {
    "collapsed": false
   },
   "outputs": [],
   "source": [
    "# Which we can do with a single cell without compiling or processing.\n",
    "c"
   ]
  },
  {
   "cell_type": "markdown",
   "metadata": {},
   "source": [
    "While this is a trivial example, this pipeline approach allows for massive productivity increases when operating on larger data sets.\n",
    "\n",
    "**Side note**: the layout of the cells doesn't really matter. It's all about the order in which they are run. You can see the order of the inputs and the outputs in the boxes to the left of the cells. Anything on the last line of a cell will be inspected/printed, which helps you track your progress as you go along.\n",
    "\n",
    "---"
   ]
  },
  {
   "cell_type": "markdown",
   "metadata": {},
   "source": [
    "### 2) The notebook is flexible and customizable. It can be used to gather information from any number of sources, process it, and export that information in a variety of formats. It can also be customized in any number of ways."
   ]
  },
  {
   "cell_type": "code",
   "execution_count": null,
   "metadata": {
    "collapsed": false
   },
   "outputs": [],
   "source": [
    "from IPython.core.display import HTML\n",
    "from IPython.core.display import display\n",
    "\n",
    "# You can do useful things\n",
    "HTML(\n",
    "    \"\"\"<script>\n",
    "            var code_show=true;\n",
    "            function code_toggle() {\n",
    "                $('div.prompt').hide();\n",
    "                if (code_show) {\n",
    "                    $('div.input').show();\n",
    "                } else {\n",
    "                    $('div.input').hide();\n",
    "                }\n",
    "                code_show = !code_show;\n",
    "            }\n",
    "            $( document ).ready(code_toggle);\n",
    "        </script>\n",
    "        <a href=\"javascript:code_toggle()\">[Toggle Code]</a>\n",
    "    \"\"\")"
   ]
  },
  {
   "cell_type": "code",
   "execution_count": null,
   "metadata": {
    "collapsed": false
   },
   "outputs": [],
   "source": [
    "\n",
    "# You can do useful things ... or less than useful things.\n",
    "def myspace_ify():\n",
    "    '''Do not run this function.'''\n",
    "    return HTML('<style type=\"text/css\">'\n",
    "                '    div#notebook {'\n",
    "                '        background-image: url(\"./static/haters.gif\");'\n",
    "                '        background-repeat: repeat;'\n",
    "                '    }'\n",
    "                '</style>')\n",
    "\n",
    "myspace_ify()"
   ]
  },
  {
   "cell_type": "code",
   "execution_count": null,
   "metadata": {
    "collapsed": false
   },
   "outputs": [],
   "source": [
    "def de_myspace_ify():\n",
    "    return HTML('<style type=\"text/css\">'\n",
    "                '    div#notebook {'\n",
    "                '        background-image: none;'\n",
    "                '        background-repeat: none;'\n",
    "                '    }'\n",
    "                '</style>')\n",
    "\n",
    "de_myspace_ify()"
   ]
  },
  {
   "cell_type": "markdown",
   "metadata": {},
   "source": [
    "---\n",
    "\n",
    "### 3) It has built in support for plotting and images, and ties in well with Matplotlib and IPython.\n",
    "\n",
    "---"
   ]
  },
  {
   "cell_type": "code",
   "execution_count": null,
   "metadata": {
    "collapsed": false
   },
   "outputs": [],
   "source": [
    "# Plotting is generally a lot simplier than this.\n",
    "\n",
    "# First we import pyplot under an alias for brevity's sake\n",
    "import matplotlib.pyplot as plt\n",
    "import matplotlib\n",
    "matplotlib.style.use('fivethirtyeight')\n",
    "%matplotlib inline\n",
    "\n",
    "import numpy as np\n",
    "\n",
    "t = np.arange(0.0, 2.0, 0.05)\n",
    "s = 1 + np.sin(2*np.pi*t)\n",
    "fig = plt.plot(t, s, '--')\n",
    "plt.xlabel('Time')\n",
    "plt.ylabel('WAT')\n",
    "plt.title('Important Information')\n",
    "fig[0].axes.set_ylim([-1, 3])\n",
    "plt.show()\n"
   ]
  },
  {
   "cell_type": "markdown",
   "metadata": {},
   "source": [
    "---\n",
    "\n",
    "### 4) It is directly tied into Python and gives you access to the entire Python ecosystem. Which takes us to our next topic.\n",
    "\n",
    "---"
   ]
  },
  {
   "cell_type": "markdown",
   "metadata": {},
   "source": [
    "## Additional Learing Resources\n",
    "\n",
    "* ### [Jupyter Quickstart](https://jupyter-notebook-beginner-guide.readthedocs.io/en/latest/)\n",
    "* ### [Datacamp Jupyter Tutorial](https://www.datacamp.com/community/tutorials/tutorial-jupyter-notebook#gs.2Z95H3M)\n",
    "* ### [Gallery of Interesting Notebooks](https://github.com/jupyter/jupyter/wiki/A-gallery-of-interesting-Jupyter-and-IPython-Notebooks)"
   ]
  },
  {
   "cell_type": "markdown",
   "metadata": {},
   "source": [
    "---\n",
    "\n",
    "# Next Up: [Python](03_python.ipynb)\n",
    "\n",
    "<img style=\"margin-left: 0;\" src=\"static/python_logo.png\">\n",
    "\n",
    "---"
   ]
  }
 ],
 "metadata": {
  "anaconda-cloud": {},
  "kernelspec": {
   "display_name": "Python [Root]",
   "language": "python",
   "name": "Python [Root]"
  },
  "language_info": {
   "codemirror_mode": {
    "name": "ipython",
    "version": 3
   },
   "file_extension": ".py",
   "mimetype": "text/x-python",
   "name": "python",
   "nbconvert_exporter": "python",
   "pygments_lexer": "ipython3",
   "version": "3.5.2"
  }
 },
 "nbformat": 4,
 "nbformat_minor": 0
}
