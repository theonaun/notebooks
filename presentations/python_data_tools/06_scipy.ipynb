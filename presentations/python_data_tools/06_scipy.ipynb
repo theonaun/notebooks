{
 "cells": [
  {
   "cell_type": "markdown",
   "metadata": {
    "collapsed": true
   },
   "source": [
    "<img style=\"margin-right: 0;\" src=\"static/small.jpg\">\n",
    "\n",
    "<hr>\n",
    "\n",
    "<div style=\"display: table; width: 100%\">\n",
    "    <div style=\"display: table-row; width: 100%;\">\n",
    "        <div style=\"display: table-cell; width: 50%; vertical-align: middle;\">\n",
    "                <img style=\"display: inline;\" src=\"static/scipy_logo.png\" style=\"overflow: hidden; width: 50%\">\n",
    "            <br>\n",
    "            <br>\n",
    "            <ul style=\"display: inline-block\">\n",
    "                <li>\n",
    "                    <a href=\"https://scipy.org/\">SciPy.org</a>\n",
    "                </li>\n",
    "                <li>\n",
    "                    <a href=\"https://docs.scipy.org/doc/scipy-0.18.1/reference/\">SciPy Documentation</a>\n",
    "                </li>\n",
    "                <li>\n",
    "                    <a href=\"https://en.wikipedia.org/wiki/SciPy\">SciPy Wikipedia</a>\n",
    "                </li>\n",
    "            </ul>\n",
    "        </div>\n",
    "        <div style=\"display: table-cell; width: 10%\">\n",
    "        </div>\n",
    "        <div style=\"display: table-cell; width: 40%; vertical-align: middle;\">\n",
    "            <blockquote>\n",
    "                <p style=\"font-style: italic;\">Basic research is what I am doing when I don't know what I am doing.</p>\n",
    "                <br>\n",
    "                <p>-Werner von Braun</p>\n",
    "            </blockquote>\n",
    "        </div>\n",
    "    </div>\n",
    "</div>\n",
    "\n",
    "<hr>\n",
    "\n",
    "\n"
   ]
  },
  {
   "cell_type": "markdown",
   "metadata": {
    "collapsed": true
   },
   "source": [
    "## What Is SciPy\n",
    "\n",
    "SciPy (\"sigh-pie\") is a Python library that contains a large number of scientific computing tools. It covers statistical functions, calculus, linear algebra, optimization routines, and datatypes that facilitate machine learning calculations."
   ]
  },
  {
   "cell_type": "markdown",
   "metadata": {},
   "source": [
    "## What Will We Use SciPy For?\n",
    "\n",
    "Like Numpy, we will use mostly use SciPy indirectly. For the most part, our interaction with SciPy will be via Pandas (for many statistical functions) and Scikit-Learn (for linear algebra and optimization functions). The only items that we may use directly are the stats functions in scipy.stats and the optimization functions in scipy.optimize."
   ]
  },
  {
   "cell_type": "markdown",
   "metadata": {},
   "source": [
    "## scipy.optimize\n",
    "\n",
    "This is overkill 95% of the time. You can just as easily run your function over a range and simply pick the local maximum value. That said, if you want to [optimize](https://docs.scipy.org/doc/scipy/reference/generated/scipy.optimize.minimize.html), Scipy has functions for that."
   ]
  },
  {
   "cell_type": "code",
   "execution_count": null,
   "metadata": {
    "collapsed": false
   },
   "outputs": [],
   "source": [
    "import matplotlib\n",
    "import matplotlib.pyplot as plt\n",
    "%matplotlib inline\n",
    "\n",
    "import numpy as np\n",
    "\n",
    "# Import minimize\n",
    "from scipy.optimize import minimize\n",
    "\n",
    "# Create a function to find the minimum of\n",
    "def function_with_min(x):\n",
    "    # Add 1 to shift height and square\n",
    "    x = (x + 1) ** 2\n",
    "    # Add 3 to shift alignment\n",
    "    x = x + 3\n",
    "    # Return vlaue\n",
    "    return x\n",
    "\n",
    "# Get minimum with minimize\n",
    "result = minimize(function_with_min, 0)\n",
    "print('Minimum input is {:.3}.'.format(result['x'][0]))\n",
    "print('Minimum output is {:.3}.'.format(result['fun']))\n",
    "\n",
    "# Create example points\n",
    "x = np.arange(-10, 10, .1)\n",
    "\n",
    "# Vectorize function\n",
    "vec_function = np.vectorize(function_with_min)\n",
    "y = vec_function(x)\n",
    "\n",
    "# Less efficient for large datasets, but you can also\n",
    "# y = [function_with_min(scalar) for scalar in x]\n",
    "\n",
    "# Plot\n",
    "plt.plot(x, y)\n",
    "plt.show()"
   ]
  },
  {
   "cell_type": "code",
   "execution_count": null,
   "metadata": {
    "collapsed": false
   },
   "outputs": [],
   "source": [
    "# Create a function to find the maximum of\n",
    "def function_with_max(x):\n",
    "    # Add 1 to shift height and square\n",
    "    x = (x - 1) ** 2\n",
    "    # Invert\n",
    "    x = x * -1\n",
    "    # Add 20\n",
    "    x = x + 20\n",
    "    return x\n",
    "\n",
    "# Invert function result\n",
    "result = minimize(lambda x: function_with_max(x) * -1, 0)\n",
    "print('Maximum input is {:.3}.'.format(result['x'][0]))\n",
    "print('Maximum output is {:.3}.'.format(result['fun']))\n",
    "\n",
    "# Create example points\n",
    "x = np.arange(-10, 10, .1)\n",
    "\n",
    "# Vectorize function\n",
    "vec_function = np.vectorize(function_with_max)\n",
    "y = vec_function(x)\n",
    "\n",
    "# Plot\n",
    "plt.plot(x, y)"
   ]
  },
  {
   "cell_type": "markdown",
   "metadata": {},
   "source": [
    "## scipy.stats\n",
    "\n",
    "Also overkill 95% of the time. I cannot pronounce (let alone understand) most of the stuff in here. Pandas and numpy have functions that cover most of this, but if you need a general Kolmogorov-Smirnov one-sided test or an inverted Weibull continuous random variable, this is where you would look."
   ]
  },
  {
   "cell_type": "markdown",
   "metadata": {},
   "source": [
    "---\n",
    "\n",
    "## Additional Learing Resources\n",
    "\n",
    "* ### [Introduction to Scipy and Numpy](https://engineering.ucsb.edu/~shell/che210d/numpy.pdf)\n",
    "* ### [Scipy Lectures Overview](http://www.scipy-lectures.org/intro/scipy.html)\n"
   ]
  },
  {
   "cell_type": "markdown",
   "metadata": {},
   "source": [
    "---\n",
    "\n",
    "# Next Up: [Pandas](07_pandas.ipynb)\n",
    "\n",
    "<img style=\"margin-left: 0;\" src=\"static/pandas_logo.png\">\n",
    "\n",
    "---"
   ]
  }
 ],
 "metadata": {
  "anaconda-cloud": {},
  "kernelspec": {
   "display_name": "Python [Root]",
   "language": "python",
   "name": "Python [Root]"
  },
  "language_info": {
   "codemirror_mode": {
    "name": "ipython",
    "version": 3
   },
   "file_extension": ".py",
   "mimetype": "text/x-python",
   "name": "python",
   "nbconvert_exporter": "python",
   "pygments_lexer": "ipython3",
   "version": "3.5.2"
  }
 },
 "nbformat": 4,
 "nbformat_minor": 0
}
