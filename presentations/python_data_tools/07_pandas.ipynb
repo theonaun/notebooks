{
 "cells": [
  {
   "cell_type": "markdown",
   "metadata": {
    "collapsed": true
   },
   "source": [
    "<img style=\"margin-right: 0;\" src=\"static/small.jpg\">\n",
    "\n",
    "<hr>\n",
    "\n",
    "<div style=\"display: table; width: 100%\">\n",
    "    <div style=\"display: table-row; width: 100%;\">\n",
    "        <div style=\"display: table-cell; width: 50%; vertical-align: middle;\">\n",
    "                <img style=\"display: inline;\" src=\"static/pandas_logo.png\" style=\"overflow: hidden; width: 50%\">\n",
    "            <br>\n",
    "            <br>\n",
    "            <ul style=\"display: inline-block\">\n",
    "                <li>\n",
    "                    <a href=\"http://pandas.pydata.org/\">pandas Home</a>\n",
    "                </li>\n",
    "                <li>\n",
    "                    <a href=\"http://pandas.pydata.org/pandas-docs/stable/api.html\">pandas API Reference</a>\n",
    "                </li>\n",
    "                <li>\n",
    "                    <a href=\"https://en.wikipedia.org/wiki/Pandas_(software)\">pandas Wikipedia</a>\n",
    "                </li>\n",
    "            </ul>\n",
    "        </div>\n",
    "        <div style=\"display: table-cell; width: 10%\">\n",
    "        </div>\n",
    "        <div style=\"display: table-cell; width: 40%; vertical-align: middle;\">\n",
    "            <blockquote>\n",
    "                <p style=\"font-style: italic;\">Torture numbers, and they'll confess to anything.</p>\n",
    "                <br>\n",
    "                <p>-Gregg Easterbrook</p>\n",
    "            </blockquote>\n",
    "        </div>\n",
    "    </div>\n",
    "</div>\n",
    "\n",
    "<hr>"
   ]
  },
  {
   "cell_type": "markdown",
   "metadata": {},
   "source": [
    "## What is Pandas?\n",
    "\n",
    "Pandas is a Python library that focuses on data manipulation and numerical analysis. While originally designed as an econometrics platform it has proven suitable for a variety of domains. It will be our primary interface going forward.\n",
    "\n",
    "There are two impotant concepts we should discuss before we begin.\n",
    "\n",
    "---\n",
    "\n",
    "## Dataframe\n",
    "\n",
    "Pandas borrowed the concept of the [pd.DataFrame](http://pandas.pydata.org/pandas-docs/stable/generated/pandas.DataFrame.html) from [R](https://en.wikipedia.org/wiki/R_(programming_language)."
   ]
  },
  {
   "cell_type": "code",
   "execution_count": null,
   "metadata": {
    "collapsed": false
   },
   "outputs": [],
   "source": [
    "# Import pandas under the name pd\n",
    "import pandas as pd\n",
    "import numpy as np\n",
    "import matplotlib\n",
    "\n",
    "%matplotlib inline\n",
    "matplotlib.style.use('fivethirtyeight')\n",
    "\n",
    "# Create a dataframe from a CSV file\n",
    "df = pd.read_csv('data/cfpb_complaints_with_fictitious_data.csv')\n",
    "\n",
    "# Any dataframe at end of cell gets HTML representation\n",
    "# Head limits the number of output rows\n",
    "df"
   ]
  },
  {
   "cell_type": "code",
   "execution_count": null,
   "metadata": {
    "collapsed": false
   },
   "outputs": [],
   "source": [
    "# For clarity, add color.\n",
    "from IPython.display import HTML\n",
    "\n",
    "with open('static/notebook_style.css', 'r', encoding='utf8') as f:\n",
    "    data = f.read()\n",
    "    \n",
    "HTML('<style>' + data + '</style>')"
   ]
  },
  {
   "cell_type": "markdown",
   "metadata": {},
   "source": [
    "A dataframe can be thought of like a relationtional database table or an Excel sheet. It has rows and columns. The rows correspond with an individual item or entity. The columns correspond with various features of the entity. In the above, the columns and the row index are in navy. The actual data falls in the middle of the table."
   ]
  },
  {
   "cell_type": "markdown",
   "metadata": {},
   "source": [
    "## Series\n",
    "\n",
    "DataFrames can be thought of a group of columns composed of [Series](http://pandas.pydata.org/pandas-docs/stable/generated/pandas.Series.html) objects. They can also be thought of a group of rows composed of Series. Unlike a dataframe, a Series only has an index and data."
   ]
  },
  {
   "cell_type": "code",
   "execution_count": null,
   "metadata": {
    "collapsed": false
   },
   "outputs": [],
   "source": [
    "# You can select a column series of a dataframe with this notation:\n",
    "# dataframe[column_name]\n",
    "# OR if there are no spaces in the name\n",
    "# df.Product\n",
    "# Head limits it output to the first 5 elements\n",
    "df['Product'].head()"
   ]
  },
  {
   "cell_type": "markdown",
   "metadata": {
    "collapsed": true
   },
   "source": [
    "## What Can Pandas Do?\n",
    "\n",
    "**Warning**: If you are a Python person, some of the syntax you're about to see may frighten and confuse you. This is a perfectly normal reaction. Because Python doesn't have true operator overloading, the only way to get R-like syntax was to abuse the \\__getitem__\\() magic method. It's kludgy, but it works beautifully."
   ]
  },
  {
   "cell_type": "markdown",
   "metadata": {},
   "source": [
    "### Selecting and Filtering"
   ]
  },
  {
   "cell_type": "code",
   "execution_count": null,
   "metadata": {
    "collapsed": false
   },
   "outputs": [],
   "source": [
    "# We can cut down the dataframe as needed\n",
    "# You can also pass a list of columns to get back a subframe\n",
    "# dataframe[list_of_column_names]\n",
    "# http://pandas.pydata.org/pandas-docs/stable/indexing.html\n",
    "tdf = df[['Product', 'Company', 'State']]\n",
    "tdf.head()"
   ]
  },
  {
   "cell_type": "code",
   "execution_count": null,
   "metadata": {
    "collapsed": false
   },
   "outputs": [],
   "source": [
    "# We can also cut down columns by filtering by number\n",
    "# Loc is for indexing\n",
    "tdf.iloc[:5]"
   ]
  },
  {
   "cell_type": "code",
   "execution_count": null,
   "metadata": {
    "collapsed": false
   },
   "outputs": [],
   "source": [
    "# Or by content\n",
    "# This works because of boolean indexing, which we will get to.\n",
    "tdf[tdf['Company'] == 'Experian'].head(5)"
   ]
  },
  {
   "cell_type": "code",
   "execution_count": null,
   "metadata": {
    "collapsed": false
   },
   "outputs": [],
   "source": [
    "# We can filter and then analyze columns.\n",
    "filtered_df = tdf[tdf['Company'] == 'Experian']\n",
    "\n",
    "# And we can use Series methods if we want to examine columns\n",
    "filtered_df['State'].value_counts()[:5]"
   ]
  },
  {
   "cell_type": "code",
   "execution_count": null,
   "metadata": {
    "collapsed": false
   },
   "outputs": [],
   "source": [
    "# Or get unique values\n",
    "filtered_df['Product'].unique()[:5]"
   ]
  },
  {
   "cell_type": "code",
   "execution_count": null,
   "metadata": {
    "collapsed": false
   },
   "outputs": [],
   "source": [
    "# We can get column datatypes\n",
    "filtered_df.dtypes"
   ]
  },
  {
   "cell_type": "code",
   "execution_count": null,
   "metadata": {
    "collapsed": false
   },
   "outputs": [],
   "source": [
    "# We can group the data and view it in aggregate\n",
    "# http://pandas.pydata.org/pandas-docs/stable/groupby.html\n",
    "gb = df.groupby(['Product', 'Sub-product'])\n",
    "\n",
    "# Add count size gives basic numbers.\n",
    "size = gb.mean().head(15)\n",
    "size"
   ]
  },
  {
   "cell_type": "code",
   "execution_count": null,
   "metadata": {
    "collapsed": false
   },
   "outputs": [],
   "source": [
    "# Pandas also has simplified plotting\n",
    "size['Consumer Claim'].sort_values().plot.barh()"
   ]
  },
  {
   "cell_type": "code",
   "execution_count": null,
   "metadata": {
    "collapsed": false
   },
   "outputs": [],
   "source": [
    "# We can reshape data as necessary.\n",
    "size.unstack().fillna(' ')"
   ]
  },
  {
   "cell_type": "code",
   "execution_count": null,
   "metadata": {
    "collapsed": false
   },
   "outputs": [],
   "source": [
    "# Or get numerical data or transform based on common groups.\n",
    "output = gb['Consumer Claim'].agg([np.mean, np.median, np.max, np.min]).head(10)\n",
    "output"
   ]
  },
  {
   "cell_type": "code",
   "execution_count": null,
   "metadata": {
    "collapsed": false
   },
   "outputs": [],
   "source": [
    "# We can use apply to apply functions in a vectorized manner\n",
    "def transmogrify(row):\n",
    "    id = row['Complaint ID']\n",
    "    product = row['Product']\n",
    "    state = row['State']\n",
    "    return 'Complaint {} is a {} complaint from the state of {}.'.format(id, product, state)\n",
    "\n",
    "output = df.apply(transmogrify, axis=1)[:5]\n",
    "output[0]"
   ]
  },
  {
   "cell_type": "code",
   "execution_count": null,
   "metadata": {
    "collapsed": false
   },
   "outputs": [],
   "source": [
    "# We can do database style merges, joins, and concatenations\n",
    "# http://pandas.pydata.org/pandas-docs/stable/merging.html\n",
    "df2 = pd.read_csv('data/simple.csv')\n",
    "\n",
    "df2.head(5)"
   ]
  },
  {
   "cell_type": "code",
   "execution_count": null,
   "metadata": {
    "collapsed": false
   },
   "outputs": [],
   "source": [
    "# Here we non-sensically merge arbitrary numbers from simple to the CFPB dataset\n",
    "tdf = df.merge(df2, how='inner', left_on='Date received', right_on='Date')\n",
    "\n",
    "tdf[['Date received', 'Product', 'Count']].head(5)"
   ]
  },
  {
   "cell_type": "code",
   "execution_count": null,
   "metadata": {
    "collapsed": true
   },
   "outputs": [],
   "source": [
    "# We can write the data to disk in a single line\n",
    "output.to_csv('data/custom_function_output.csv')"
   ]
  },
  {
   "cell_type": "code",
   "execution_count": null,
   "metadata": {
    "collapsed": false
   },
   "outputs": [],
   "source": [
    "# Pandas has built in support for datetime objects, too.\n",
    "df['Date received'] = pd.to_datetime(df['Date received'])\n",
    "gb = df.groupby([df['Date received'].dt.year,\n",
    "                 df['Date received'].dt.month])\n",
    "gb.size().plot()"
   ]
  },
  {
   "cell_type": "code",
   "execution_count": null,
   "metadata": {
    "collapsed": false
   },
   "outputs": [],
   "source": [
    "# And support for string methods\n",
    "contains_lawyer = df['Consumer complaint narrative'].str.contains('lawyer')\n",
    "\n",
    "# Get all items containing lawyer\n",
    "data = df[contains_lawyer]['Consumer complaint narrative']\n",
    "\n",
    "# Get text of first item\n",
    "data"
   ]
  },
  {
   "cell_type": "code",
   "execution_count": null,
   "metadata": {
    "collapsed": false
   },
   "outputs": [],
   "source": [
    "# This includes regexes for text mining ... https://en.wikipedia.org/wiki/Regular_expression\n",
    "regex_string = r'([Ll]awyer[\\S\\s]*?\\.|[Aa]ttorney[\\S\\s]*?\\.)'\n",
    "\n",
    "# Look for each and every instance\n",
    "lawyer_to_sentence_end = df['Consumer complaint narrative'].str.extract(regex_string,\n",
    "                                                                        expand=True)\n",
    "lawyer_to_sentence_end.dropna().head(5)"
   ]
  },
  {
   "cell_type": "markdown",
   "metadata": {
    "collapsed": true
   },
   "source": [
    "---\n",
    "\n",
    "## Additional Learing Resources\n",
    "\n",
    "* ### [Pandas From The Ground Up](https://www.youtube.com/watch?v=5JnMutdy6Fw) / [Slides](https://github.com/brandon-rhodes/pycon-pandas-tutorial) <- this video changed my life\n",
    "* ### [10 Minutes to Pandas](http://pandas.pydata.org/pandas-docs/stable/10min.html)\n",
    "* ### [Visual Pandas](https://www.youtube.com/watch?v=9d5-Ti6onew)"
   ]
  },
  {
   "cell_type": "markdown",
   "metadata": {},
   "source": [
    "---\n",
    "\n",
    "# Next Up: [Scikit-Learn](08_scikit_learn.ipynb)\n",
    "\n",
    "<img style=\"margin-left: 0; width: 40%;\" src=\"static/sklearn_logo.png\">\n",
    "\n",
    "---"
   ]
  }
 ],
 "metadata": {
  "anaconda-cloud": {},
  "kernelspec": {
   "display_name": "Python [Root]",
   "language": "python",
   "name": "Python [Root]"
  },
  "language_info": {
   "codemirror_mode": {
    "name": "ipython",
    "version": 3
   },
   "file_extension": ".py",
   "mimetype": "text/x-python",
   "name": "python",
   "nbconvert_exporter": "python",
   "pygments_lexer": "ipython3",
   "version": "3.5.2"
  }
 },
 "nbformat": 4,
 "nbformat_minor": 0
}
