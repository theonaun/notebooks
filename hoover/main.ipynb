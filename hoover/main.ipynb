{
 "cells": [
  {
   "cell_type": "code",
   "execution_count": 1,
   "metadata": {
    "collapsed": true,
    "deletable": true,
    "editable": true
   },
   "outputs": [],
   "source": [
    "import asyncio\n",
    "import datetime\n",
    "import os\n",
    "import re\n",
    "import sqlite3\n",
    "import time\n",
    "\n",
    "import aiohttp\n",
    "import bs4\n",
    "import requests"
   ]
  },
  {
   "cell_type": "code",
   "execution_count": 30,
   "metadata": {
    "collapsed": false,
    "deletable": true,
    "editable": true
   },
   "outputs": [],
   "source": [
    "# Daily index URL\n",
    "INDEX_URL = 'https://www.sec.gov/Archives/edgar/daily-index/'\n",
    "ARCHIVE_URL = 'https://www.sec.gov/Archives/'\n",
    "DELAY = .1\n",
    "YEARS = list(range(2000, 2018))\n",
    "QUARTERS = ['QTR1', 'QTR2', 'QTR3', 'QTR4']\n",
    "HOME = os.path.expanduser('~')\n",
    "HOOVER_FOLDER = os.path.join(HOME, '.hoover')\n",
    "DEBUG = True\n",
    "if DEBUG:\n",
    "    QUARTERS = ['QTR1']\n",
    "    YEARS = [2015]"
   ]
  },
  {
   "cell_type": "code",
   "execution_count": 11,
   "metadata": {
    "collapsed": false,
    "deletable": true,
    "editable": true
   },
   "outputs": [],
   "source": [
    "# Comprehension yields [('2000', 'QTR1'), ..., ('2017', 'QTR1') ]\n",
    "period_tuples = [\n",
    "    (str(year), quarter)\n",
    "    for year in YEARS\n",
    "    for quarter in QUARTERS\n",
    "]\n",
    "\n",
    "# URLS\n",
    "quarterly_urls = [\n",
    "    INDEX_URL + year + '/' + quarter + '/'\n",
    "    for year, quarter\n",
    "    in period_tuples\n",
    "]\n",
    "\n",
    "# ('1994', 'QTR1): [] for each\n",
    "index_dict = {\n",
    "    tuple_: []\n",
    "    for tuple_\n",
    "    in period_tuples\n",
    "}"
   ]
  },
  {
   "cell_type": "code",
   "execution_count": 12,
   "metadata": {
    "collapsed": false,
    "deletable": true,
    "editable": true,
    "scrolled": false
   },
   "outputs": [],
   "source": [
    "def populate_index_dict():\n",
    "    for tuple_, url in zip(period_tuples, quarterly_urls):\n",
    "        time.sleep(DELAY)\n",
    "        r = requests.get(url)\n",
    "        if r.status_code == 404:\n",
    "            continue\n",
    "        html = r.text\n",
    "        soup = bs4.BeautifulSoup(html, 'html.parser')\n",
    "        main_div = soup.find('table', {'summary': 'heding'})\n",
    "        for tag in main_div.findAll('a'):\n",
    "            text = tag['href']\n",
    "            index_dict[tuple_].append(text)\n",
    "\n",
    "\n",
    "populate_index_dict()"
   ]
  },
  {
   "cell_type": "code",
   "execution_count": 13,
   "metadata": {
    "collapsed": false,
    "deletable": true,
    "editable": true
   },
   "outputs": [],
   "source": [
    "def prep_db_data():\n",
    "    db_data = []\n",
    "    for key, value in index_dict.items():\n",
    "        year, quarter = key\n",
    "        if value:\n",
    "            for filename in value:\n",
    "                if not 'master' in filename or '.gz' in filename:\n",
    "                    continue\n",
    "                link_text = ''.join([\n",
    "                    INDEX_URL,\n",
    "                    str(year),\n",
    "                    '/',\n",
    "                    quarter,\n",
    "                    '/',\n",
    "                    filename\n",
    "                ])\n",
    "                year = int(filename.split('.')[1][:4])\n",
    "                month = int(filename.split('.')[1][4:6])\n",
    "                day = int(filename.split('.')[1][6:])\n",
    "                dt = datetime.datetime(year, month, day)\n",
    "                db_data.append(\n",
    "                    tuple([\n",
    "                        year,\n",
    "                        quarter,\n",
    "                        filename,\n",
    "                        dt,\n",
    "                        link_text\n",
    "                    ])\n",
    "                )\n",
    "    return db_data\n",
    "\n",
    "\n",
    "db_data = prep_db_data()"
   ]
  },
  {
   "cell_type": "code",
   "execution_count": 14,
   "metadata": {
    "collapsed": false,
    "deletable": true,
    "editable": true
   },
   "outputs": [],
   "source": [
    "def create_hoover_db():\n",
    "    if not os.path.exists(HOOVER_FOLDER):\n",
    "        os.mkdir(HOOVER_FOLDER)\n",
    "    db_path = os.path.join(HOOVER_FOLDER, 'hoover_db.sqlite3')\n",
    "    conn = sqlite3.connect(db_path)\n",
    "    with conn:\n",
    "        cursor = conn.cursor()\n",
    "        cursor.execute(\n",
    "            'CREATE TABLE IF NOT EXISTS index_table ( '\n",
    "            '    index_table_id INTEGER PRIMARY KEY,'\n",
    "            '    year           INTEGER NOT NULL,'\n",
    "            '    quarter        TEXT    NOT NULL,'\n",
    "            '    filname        TEXT    NOT NULL,'\n",
    "            '    input_dt       NUMERIC NOT NULL,'\n",
    "            '    link_text      TEXT    NOT NULL,'\n",
    "            '    index_data     TEXT'\n",
    "            ');'\n",
    "        )\n",
    "        cursor.execute(\n",
    "            'CREATE TABLE IF NOT EXISTS company_table ( '\n",
    "            '    company_table_id INTEGER PRIMARY KEY,'\n",
    "            '    cik       TEXT    NOT NULL,'\n",
    "            '    name      TEXT    NOT NULL,'\n",
    "            '    form_type TEXT    NOT NULL,'\n",
    "            '    filed_dt  NUMERIC NOT NULL,'\n",
    "            '    filename  TEXT    NOT NULL,'\n",
    "            '    form_text TEXT'\n",
    "            ');'\n",
    "        )\n",
    "    return db_path\n",
    "\n",
    "\n",
    "db_path = create_hoover_db()"
   ]
  },
  {
   "cell_type": "code",
   "execution_count": 15,
   "metadata": {
    "collapsed": false,
    "deletable": true,
    "editable": true
   },
   "outputs": [],
   "source": [
    "def populate_hoover_db(db_path):\n",
    "    conn = sqlite3.connect(db_path)\n",
    "    with conn:\n",
    "        cursor = conn.cursor()\n",
    "        cursor.executemany((    \n",
    "                'INSERT INTO index_table '\n",
    "                'VALUES (NULL, ?, ?, ?, ?, ?, NULL)'\n",
    "            ),\n",
    "            db_data\n",
    "        )\n",
    "\n",
    "\n",
    "populate_hoover_db(db_path)"
   ]
  },
  {
   "cell_type": "code",
   "execution_count": 16,
   "metadata": {
    "collapsed": false,
    "deletable": true,
    "editable": true
   },
   "outputs": [],
   "source": [
    "async def data_from_link(link):\n",
    "    async with aiohttp.ClientSession() as session:\n",
    "        async with session.get(link) as response:\n",
    "            byte_data = await response.read()\n",
    "            text_data = byte_data.decode('utf-8')\n",
    "            return text_data"
   ]
  },
  {
   "cell_type": "code",
   "execution_count": 18,
   "metadata": {
    "collapsed": false,
    "deletable": true,
    "editable": true
   },
   "outputs": [
    {
     "name": "stdout",
     "output_type": "stream",
     "text": [
      "Running downloads\n",
      ".......\n",
      "Complete.\n"
     ]
    }
   ],
   "source": [
    "def dl_text_and_insert(db_path):\n",
    "    conn = sqlite3.connect(db_path)\n",
    "    with conn:\n",
    "        cursor = conn.cursor()\n",
    "        cursor.execute(\n",
    "            'SELECT index_table_id, link_text '\n",
    "            'FROM index_table;'\n",
    "        )\n",
    "        results = cursor.fetchall()\n",
    "    with conn:\n",
    "        loop = asyncio.get_event_loop()\n",
    "        cursor = conn.cursor()\n",
    "        while results:\n",
    "            loop.run_until_complete(asyncio.sleep(1))\n",
    "            if len(results) >= 10:\n",
    "                number_to_pull = 10\n",
    "            else:\n",
    "                number_to_pull = len(results)\n",
    "            list_of_items = [\n",
    "                results.pop(0)\n",
    "                for _\n",
    "                in range(number_to_pull)\n",
    "            ]\n",
    "            list_of_links = [item[1] for item in list_of_items]\n",
    "            list_of_indices = [item[0] for item in list_of_items]\n",
    "            tasks = [\n",
    "                data_from_link(link)\n",
    "                for link\n",
    "                in list_of_links\n",
    "            ]\n",
    "            text = loop.run_until_complete(asyncio.gather(*tasks))\n",
    "            clean_text = [\n",
    "                 text_data.partition('-----\\n')[2]\n",
    "                 for text_data\n",
    "                 in text\n",
    "            ]\n",
    "            cursor.executemany(\n",
    "                'UPDATE index_table ' \n",
    "                'SET index_data=? '\n",
    "                'WHERE index_table_id=?;',\n",
    "                zip(clean_text, list_of_indices)\n",
    "            )\n",
    "            print('.', end='')   \n",
    "            conn.commit()\n",
    "        cursor.execute('VACUUM')\n",
    "\n",
    "    \n",
    "print('Running downloads')\n",
    "dl_text_and_insert(db_path)\n",
    "print('\\nComplete.')"
   ]
  },
  {
   "cell_type": "code",
   "execution_count": 20,
   "metadata": {
    "collapsed": false,
    "deletable": true,
    "editable": true
   },
   "outputs": [
    {
     "name": "stdout",
     "output_type": "stream",
     "text": [
      "."
     ]
    }
   ],
   "source": [
    "def dl_text_and_insert(db_path):\n",
    "    '''SELECT TEXT.'''\n",
    "    conn = sqlite3.connect(db_path)\n",
    "    with conn:\n",
    "        cursor1 = conn.cursor()\n",
    "        cursor2 = conn.cursor()\n",
    "        for index, row in enumerate(\n",
    "            cursor1.execute('SELECT index_data FROM index_table;')\n",
    "        ):\n",
    "            text = row[0]\n",
    "            lines = text.splitlines()\n",
    "            entries = [\n",
    "                tuple([cik,\n",
    "                       company,\n",
    "                       form,\n",
    "                       datetime.datetime.strptime(datestamp, '%Y%m%d'),\n",
    "                       link])\n",
    "                for cik, company, form, datestamp, link\n",
    "                in [\n",
    "                    line.split('|')\n",
    "                    for line\n",
    "                    in lines\n",
    "                ]\n",
    "            ]\n",
    "            cursor2.executemany(\n",
    "                'INSERT INTO company_table '\n",
    "                'VALUES (NULL, ?, ?, ?, ?, ?, NULL);',\n",
    "                entries\n",
    "            )\n",
    "            if index % 10 == 0:\n",
    "                print('.', end='')   \n",
    "        cursor1.execute('VACUUM')\n",
    "\n",
    "        \n",
    "dl_text_and_insert(db_path)"
   ]
  },
  {
   "cell_type": "code",
   "execution_count": 33,
   "metadata": {
    "collapsed": false,
    "deletable": true,
    "editable": true
   },
   "outputs": [
    {
     "name": "stdout",
     "output_type": "stream",
     "text": [
      "2\n"
     ]
    },
    {
     "ename": "NameError",
     "evalue": "name 'path' is not defined",
     "output_type": "error",
     "traceback": [
      "\u001b[0;31m---------------------------------------------------------------------------\u001b[0m",
      "\u001b[0;31mNameError\u001b[0m                                 Traceback (most recent call last)",
      "\u001b[0;32m<ipython-input-33-e32cc019d680>\u001b[0m in \u001b[0;36m<module>\u001b[0;34m()\u001b[0m\n\u001b[1;32m     38\u001b[0m         \u001b[0mcursor1\u001b[0m\u001b[0;34m.\u001b[0m\u001b[0mexecute\u001b[0m\u001b[0;34m(\u001b[0m\u001b[0;34m'VACUUM'\u001b[0m\u001b[0;34m)\u001b[0m\u001b[0;34m\u001b[0m\u001b[0m\n\u001b[1;32m     39\u001b[0m \u001b[0;34m\u001b[0m\u001b[0m\n\u001b[0;32m---> 40\u001b[0;31m \u001b[0mdl_filings\u001b[0m\u001b[0;34m(\u001b[0m\u001b[0mdb_path\u001b[0m\u001b[0;34m)\u001b[0m\u001b[0;34m\u001b[0m\u001b[0m\n\u001b[0m",
      "\u001b[0;32m<ipython-input-33-e32cc019d680>\u001b[0m in \u001b[0;36mdl_filings\u001b[0;34m(db_path)\u001b[0m\n\u001b[1;32m     18\u001b[0m                 \u001b[0mos\u001b[0m\u001b[0;34m.\u001b[0m\u001b[0mpath\u001b[0m\u001b[0;34m.\u001b[0m\u001b[0mjoin\u001b[0m\u001b[0;34m(\u001b[0m\u001b[0mARCHIVE_URL\u001b[0m\u001b[0;34m,\u001b[0m \u001b[0mpath\u001b[0m\u001b[0;34m)\u001b[0m\u001b[0;34m\u001b[0m\u001b[0m\n\u001b[1;32m     19\u001b[0m                 \u001b[0;32mfor\u001b[0m \u001b[0mitem\u001b[0m\u001b[0;34m\u001b[0m\u001b[0m\n\u001b[0;32m---> 20\u001b[0;31m                 \u001b[0;32min\u001b[0m \u001b[0mbatch\u001b[0m\u001b[0;34m\u001b[0m\u001b[0m\n\u001b[0m\u001b[1;32m     21\u001b[0m             ]\n\u001b[1;32m     22\u001b[0m             \u001b[0mloop\u001b[0m\u001b[0;34m.\u001b[0m\u001b[0mrun_until_complete\u001b[0m\u001b[0;34m(\u001b[0m\u001b[0masyncio\u001b[0m\u001b[0;34m.\u001b[0m\u001b[0msleep\u001b[0m\u001b[0;34m(\u001b[0m\u001b[0;36m1\u001b[0m\u001b[0;34m)\u001b[0m\u001b[0;34m)\u001b[0m\u001b[0;34m\u001b[0m\u001b[0m\n",
      "\u001b[0;32m<ipython-input-33-e32cc019d680>\u001b[0m in \u001b[0;36m<listcomp>\u001b[0;34m(.0)\u001b[0m\n\u001b[1;32m     17\u001b[0m             links = [\n\u001b[1;32m     18\u001b[0m                 \u001b[0mos\u001b[0m\u001b[0;34m.\u001b[0m\u001b[0mpath\u001b[0m\u001b[0;34m.\u001b[0m\u001b[0mjoin\u001b[0m\u001b[0;34m(\u001b[0m\u001b[0mARCHIVE_URL\u001b[0m\u001b[0;34m,\u001b[0m \u001b[0mpath\u001b[0m\u001b[0;34m)\u001b[0m\u001b[0;34m\u001b[0m\u001b[0m\n\u001b[0;32m---> 19\u001b[0;31m                 \u001b[0;32mfor\u001b[0m \u001b[0mitem\u001b[0m\u001b[0;34m\u001b[0m\u001b[0m\n\u001b[0m\u001b[1;32m     20\u001b[0m                 \u001b[0;32min\u001b[0m \u001b[0mbatch\u001b[0m\u001b[0;34m\u001b[0m\u001b[0m\n\u001b[1;32m     21\u001b[0m             ]\n",
      "\u001b[0;31mNameError\u001b[0m: name 'path' is not defined"
     ]
    }
   ],
   "source": [
    "def dl_filings(db_path):\n",
    "    pass\n",
    "    # Batches of 10\n",
    "    # for each companyid, link\n",
    "    # download link\n",
    "    # zip with companyid\n",
    "    # write.\n",
    "    conn = sqlite3.connect(db_path)\n",
    "    with conn:\n",
    "        cursor1 = conn.cursor()\n",
    "        cursor2 = conn.cursor()\n",
    "        loop = asyncio.get_event_loop()\n",
    "        cursor1.execute('SELECT company_table_id, filename '\n",
    "                        'FROM company_table;')\n",
    "        for batch in cursor1.fetchmany(10):\n",
    "            print(len(batch))\n",
    "            links = [\n",
    "                os.path.join(ARCHIVE_URL, path)\n",
    "                for item\n",
    "                in batch\n",
    "            ]\n",
    "            loop.run_until_complete(asyncio.sleep(1))\n",
    "            tasks = [\n",
    "                data_from_link(link)\n",
    "                for link\n",
    "                in links\n",
    "            ]\n",
    "            text = loop.run_until_complete(asyncio.gather(*tasks))\n",
    "            indices = [item[0] for item in batch]\n",
    "            entries = zip(text, indices)\n",
    "            print('.', end='')\n",
    "            cursor2.executemany(\n",
    "                'UPDATE company_table '\n",
    "                'SET form_text=? '\n",
    "                'WHERE company_table_id=?;',\n",
    "                entries\n",
    "            )\n",
    "        cursor1.execute('VACUUM')\n",
    "\n",
    "dl_filings(db_path)"
   ]
  },
  {
   "cell_type": "code",
   "execution_count": null,
   "metadata": {
    "collapsed": true,
    "deletable": true,
    "editable": true
   },
   "outputs": [],
   "source": []
  },
  {
   "cell_type": "code",
   "execution_count": null,
   "metadata": {
    "collapsed": true,
    "deletable": true,
    "editable": true
   },
   "outputs": [],
   "source": []
  }
 ],
 "metadata": {
  "kernelspec": {
   "display_name": "Python 3",
   "language": "python",
   "name": "python3"
  },
  "language_info": {
   "codemirror_mode": {
    "name": "ipython",
    "version": 3
   },
   "file_extension": ".py",
   "mimetype": "text/x-python",
   "name": "python",
   "nbconvert_exporter": "python",
   "pygments_lexer": "ipython3",
   "version": "3.5.3"
  }
 },
 "nbformat": 4,
 "nbformat_minor": 2
}
